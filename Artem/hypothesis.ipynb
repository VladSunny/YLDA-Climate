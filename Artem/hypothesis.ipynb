{
 "cells": [
  {
   "cell_type": "markdown",
   "metadata": {},
   "source": [
    "Гипотезы"
   ]
  },
  {
   "cell_type": "code",
   "execution_count": 17,
   "metadata": {},
   "outputs": [],
   "source": [
    "import pandas as pd\n",
    "import scipy.stats as st\n",
    "from sklearn.model_selection import train_test_split\n",
    "from sklearn.linear_model import LinearRegression\n",
    "from scipy.stats import shapiro\n",
    "\n",
    "p_value_const = 0.05"
   ]
  },
  {
   "cell_type": "code",
   "execution_count": 22,
   "metadata": {},
   "outputs": [
    {
     "name": "stdout",
     "output_type": "stream",
     "text": [
      "<class 'pandas.core.frame.DataFrame'>\n",
      "Index: 129 entries, 0 to 368\n",
      "Data columns (total 35 columns):\n",
      " #   Column                               Non-Null Count  Dtype  \n",
      "---  ------                               --------------  -----  \n",
      " 0   Unnamed: 0                           129 non-null    int64  \n",
      " 1   year                                 129 non-null    int64  \n",
      " 2   season                               129 non-null    object \n",
      " 3   climate                              129 non-null    object \n",
      " 4   city                                 129 non-null    object \n",
      " 5   country                              129 non-null    object \n",
      " 6   cooling_method                       129 non-null    object \n",
      " 7   mixed_cooling_mode                   129 non-null    object \n",
      " 8   heating_method                       129 non-null    object \n",
      " 9   age                                  129 non-null    int64  \n",
      " 10  gender                               129 non-null    object \n",
      " 11  temperature_feeling                  129 non-null    float64\n",
      " 12  temperature_feeling_bool             129 non-null    bool   \n",
      " 13  preferred_temperature_change         129 non-null    object \n",
      " 14  air_movement_feeling_bool            129 non-null    bool   \n",
      " 15  preferred_air_movement_change        129 non-null    object \n",
      " 16  comfort_rating                       129 non-null    float64\n",
      " 17  clothing_insulation                  129 non-null    float64\n",
      " 18  indoor_air_temperature               129 non-null    float64\n",
      " 19  outdoor_air_temperature              37 non-null     float64\n",
      " 20  relative_humidity                    129 non-null    float64\n",
      " 21  air_speed                            129 non-null    float64\n",
      " 22  height                               92 non-null     float64\n",
      " 23  weight                               92 non-null     float64\n",
      " 24  curtains                             129 non-null    bool   \n",
      " 25  fan_mode                             129 non-null    bool   \n",
      " 26  window_status                        129 non-null    bool   \n",
      " 27  door_status                          129 non-null    bool   \n",
      " 28  heating_mode                         129 non-null    bool   \n",
      " 29  average_monthly_outdoor_temperature  129 non-null    float64\n",
      " 30  number_of_complaints                 129 non-null    int64  \n",
      " 31  complaints_cat                       129 non-null    object \n",
      " 32  age_cat                              129 non-null    object \n",
      " 33  satisfaction_percentage              129 non-null    float64\n",
      " 34  humidity_category                    129 non-null    object \n",
      "dtypes: bool(7), float64(11), int64(4), object(13)\n",
      "memory usage: 30.1+ KB\n"
     ]
    }
   ],
   "source": [
    "df = pd.read_csv('./data/researched_data.csv', encoding='utf-8', sep=',', skipinitialspace=True)\n",
    "df_comfort = df[df['comfort_rating'].notnull()]\n",
    "df_comfort.info()"
   ]
  },
  {
   "cell_type": "markdown",
   "metadata": {},
   "source": [
    "Влияет ли способ охлаждения на оценку комфорта?\n",
    "\n",
    "Способ охлаждения - категориальная переменная.\n",
    "Оценка комфорта - порядковая переменная.\n",
    "\n",
    "Необходимо использовать один из непараметрических критериев. Возьмем критерий Краскела-Уоллеса, так как оценка рапределена ненормально (можно узнать из графика распределения), а так же способ охлаждения состоит более чем из 2-х категорий\n",
    "\n",
    "\n",
    "HO - медианы во всех подргуппах равны\n",
    "H1 - хотя бы в одной группе медианы не равны"
   ]
  },
  {
   "cell_type": "code",
   "execution_count": 20,
   "metadata": {},
   "outputs": [
    {
     "name": "stdout",
     "output_type": "stream",
     "text": [
      "1.911883611188914e-11\n",
      "Можем полагаться на H0: 0.1411805413766317\n"
     ]
    }
   ],
   "source": [
    "groups = df_comfort.groupby('cooling_method')['comfort_rating'].apply(list)\n",
    "\n",
    "\n",
    "h_stat_kruskal, p_value_kruskal = st.kruskal(*groups)\n",
    "\n",
    "if p_value_kruskal < p_value_const:\n",
    "    print('Не можем полагаться на H0:', p_value_kruskal)\n",
    "else:\n",
    "    print('Можем полагаться на H0:', p_value_kruskal)"
   ]
  },
  {
   "cell_type": "markdown",
   "metadata": {},
   "source": [
    "Хоть и статистически связь не обнаружена, из за небольшого кол-ва наблюдений ещё нельзя однозначно утвержать о независимости переменных"
   ]
  },
  {
   "cell_type": "markdown",
   "metadata": {},
   "source": [
    "Влияет ли способ пол на оценку комфорта?\n",
    "\n",
    "Пол - категориальная переменная.\n",
    "Оценка комфорта - порядковая переменная.\n",
    "\n",
    "Необходимо использовать один из непараметрических критериев. Возьмем критерий Манна-Уитни, так как оценка рапределена ненормально, а так же пол состоит из 2-х категорий\n",
    "\n",
    "\n",
    "HO - выборки в среднем распределены одинаково\n",
    "H1 - выборки в среднем распределены не одинаково"
   ]
  },
  {
   "cell_type": "code",
   "execution_count": 25,
   "metadata": {},
   "outputs": [
    {
     "name": "stdout",
     "output_type": "stream",
     "text": [
      "Не можем полагаться на H0: 0.024754100155954806\n"
     ]
    }
   ],
   "source": [
    "woman_df = df_comfort[df_comfort['gender'] == 'Женский']['comfort_rating']\n",
    "man_df = df_comfort[df_comfort['gender'] == 'Мужской']['comfort_rating']\n",
    "\n",
    "h_stat_kruskal, p_value_kruskal = st.mannwhitneyu(woman_df, man_df, alternative='two-sided')\n",
    "\n",
    "if p_value_kruskal < p_value_const:\n",
    "    print('Не можем полагаться на H0:', p_value_kruskal)\n",
    "else:\n",
    "    print('Можем полагаться на H0:', p_value_kruskal)"
   ]
  },
  {
   "cell_type": "markdown",
   "metadata": {},
   "source": [
    "Из этого следует, что распределение оценок между мужчинами и женщинами статистически значимо. Возможно, это может быть связано человеческим фактором, например девушки могут более остро реагировать на различия в температуре, чем мужчины."
   ]
  },
  {
   "cell_type": "markdown",
   "metadata": {},
   "source": [
    "Влияет ли возрастная группа на оценку комфорта?\n",
    "\n",
    "Возрастная группа - категориальная переменная.\n",
    "Оценка комфорта - порядковая переменная.\n",
    "\n",
    "Необходимо использовать один из непараметрических критериев. Возьмем критерий Краскела-Уоллеса, так как оценка рапределена ненормально, а dозрастная группа состоит из 3-х категорий\n",
    "\n",
    "\n",
    "HO - медианы во всех подргуппах равны\n",
    "H1 - хотя бы в одной группе медианы не равны"
   ]
  }
 ],
 "metadata": {
  "kernelspec": {
   "display_name": "Python 3",
   "language": "python",
   "name": "python3"
  },
  "language_info": {
   "codemirror_mode": {
    "name": "ipython",
    "version": 3
   },
   "file_extension": ".py",
   "mimetype": "text/x-python",
   "name": "python",
   "nbconvert_exporter": "python",
   "pygments_lexer": "ipython3",
   "version": "3.12.0"
  }
 },
 "nbformat": 4,
 "nbformat_minor": 2
}
