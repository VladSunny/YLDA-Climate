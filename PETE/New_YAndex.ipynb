{
 "cells": [
  {
   "cell_type": "markdown",
   "metadata": {},
   "source": [
    "# НАША ЗАДАЧА"
   ]
  },
  {
   "cell_type": "markdown",
   "metadata": {},
   "source": [
    "“В какой тип климатического оборудования стоит инвестировать больше, чтобы повысить удовлетворенность клиентов созданными условиями в зависимости от региона? И на что стоит обратить внимание при развитии бизнеса в разных регионах?”\n"
   ]
  },
  {
   "cell_type": "markdown",
   "metadata": {},
   "source": [
    "# ИМПОРТЫ"
   ]
  },
  {
   "cell_type": "code",
   "execution_count": 81,
   "metadata": {},
   "outputs": [],
   "source": [
    "import pandas as pd\n",
    "import numpy as np\n",
    "\n",
    "import seaborn as sns\n",
    "import matplotlib.pyplot as plt\n",
    "import re\n",
    "\n",
    "import warnings\n",
    "warnings.filterwarnings('ignore')"
   ]
  },
  {
   "cell_type": "markdown",
   "metadata": {},
   "source": [
    "# FILE"
   ]
  },
  {
   "cell_type": "code",
   "execution_count": 82,
   "metadata": {},
   "outputs": [],
   "source": [
    "FILEPATH = \"data.csv\""
   ]
  },
  {
   "cell_type": "markdown",
   "metadata": {},
   "source": [
    "# DATA FRAME"
   ]
  },
  {
   "cell_type": "markdown",
   "metadata": {},
   "source": [
    "#№ Базовая подготовка датасета к проведению рассчетов"
   ]
  },
  {
   "cell_type": "code",
   "execution_count": 83,
   "metadata": {},
   "outputs": [],
   "source": [
    "column_names = [\n",
    "    'year',  # Год\n",
    "    'season',  # Время года\n",
    "    'climate',  # Климат\n",
    "    'city',  # Город\n",
    "    'country',  # Страна\n",
    "    'cooling_method',  # Способ охлаждения\n",
    "    'mixed_cooling_mode',  # Режим при смешанном типе охлаждения\n",
    "    'heating_method',  # Способ обогрева\n",
    "    'age',  # Возраст\n",
    "    'gender',  # Пол\n",
    "    'temperature_feeling',  # Ощущение температуры\n",
    "    'temperature_feeling_bool',  # Ощущение температуры (bool)\n",
    "    'preferred_temperature_change',  # Предпочтительное изменение температуры\n",
    "    'air_movement_feeling_bool',  # Ощущение движения воздуха (bool)\n",
    "    'preferred_air_movement_change',  # Предпочтительное изменение движения воздуха\n",
    "    'comfort_rating',  # Оценка комфорта\n",
    "    'clothing_insulation',  # Утепление\n",
    "    'indoor_air_temperature',  # Температура воздуха в помещении\n",
    "    'outdoor_air_temperature',  # Температура воздуха на улице\n",
    "    'relative_humidity',  # Относительная влажность (RH)\n",
    "    'air_speed',  # Скорость воздуха\n",
    "    'height',  # Рост\n",
    "    'weight',  # Вес\n",
    "    'curtains',  # Занавески\n",
    "    'fan_mode',  # Вентилятор\n",
    "    'window_status',  # Окно\n",
    "    'door_status',  # Двери\n",
    "    'heating_mode',  # Отопление\n",
    "    'average_monthly_outdoor_temperature',  # Среднемесячная температура на улице\n",
    "    'number_of_complaints'  # Количество рекламаций\n",
    "]\n",
    "\n",
    "column_types = {\n",
    "    'year': 'int',  # Год (целое число)\n",
    "    'season': 'category',  # Время года (категориальная переменная: весна, лето и т.д.)\n",
    "    'climate': 'category',  # Климат (категориальная переменная: названия типов климата)\n",
    "    'city': 'category',  # Город (категориальная переменная)\n",
    "    'country': 'category',  # Страна (категориальная переменная)\n",
    "    'cooling_method': 'category',  # Способ охлаждения (категориальная переменная)\n",
    "    'mixed_cooling_mode': 'category',  # Режим при смешанном типе охлаждения (категориальная переменная)\n",
    "    'heating_method': 'category',  # Способ обогрева (категориальная переменная)\n",
    "    'age': 'int',  # Возраст (целое число)\n",
    "    'gender': 'category',  # Пол (категориальная переменная: мужской/женский)\n",
    "    'temperature_feeling': 'float',  # Ощущение температуры (целое число от -3 до +3)\n",
    "    'temperature_feeling_bool': 'bool',  # Ощущение температуры (bool)\n",
    "    'preferred_temperature_change': 'category',  # Предпочтительное изменение температуры (категориальная переменная)\n",
    "    'air_movement_feeling_bool': 'bool',  # Ощущение движения воздуха (bool)\n",
    "    'preferred_air_movement_change': 'category',  # Предпочтительное изменение движения воздуха (категориальная переменная)\n",
    "    'comfort_rating': 'int',  # Оценка комфорта (целое число от 1 до 6)\n",
    "    'clothing_insulation': 'float',  # Утепление (вещественное число, связанный с одеждой фактор)\n",
    "    'indoor_air_temperature': 'float',  # Температура воздуха в помещении (вещественное число)\n",
    "    'outdoor_air_temperature': 'float',  # Температура воздуха на улице (вещественное число)\n",
    "    'relative_humidity': 'float',  # Относительная влажность (вещественное число)\n",
    "    'air_speed': 'float',  # Скорость воздуха (вещественное число)\n",
    "    # 'height': 'float',  # Рост (вещественное число)\n",
    "    # 'weight': 'float',  # Вес (вещественное число)\n",
    "    'curtains': 'bool',  # Занавески (категориальная переменная: 0 или 1)\n",
    "    'fan_mode': 'bool',  # Вентилятор (категориальная переменная: 0 или 1)\n",
    "    'window_status': 'bool',  # Окно (категориальная переменная: 0 или 1)\n",
    "    'door_status': 'bool',  # Двери (категориальная переменная: 0 или 1)\n",
    "    'heating_mode': 'bool',  # Отопление (категориальная переменная: 0 или 1)\n",
    "    'average_monthly_outdoor_temperature': 'float',  # Среднемесячная температура на улице (вещественное число)\n",
    "    'number_of_complaints': 'int'  # Количество рекламаций (целое число)\n",
    "}"
   ]
  },
  {
   "cell_type": "code",
   "execution_count": 84,
   "metadata": {},
   "outputs": [],
   "source": [
    "df = pd.read_csv(\n",
    "    'data.csv',\n",
    "    sep=';',\n",
    "    decimal='.',\n",
    "    header=0,\n",
    "    names=column_names\n",
    ")"
   ]
  },
  {
   "cell_type": "markdown",
   "metadata": {},
   "source": [
    "## Описание нашего DF\n",
    "\n",
    "ВСЕ ДАННЫЕ О DF"
   ]
  },
  {
   "cell_type": "code",
   "execution_count": 85,
   "metadata": {},
   "outputs": [
    {
     "data": {
      "text/plain": [
       "year                                   float64\n",
       "season                                  object\n",
       "climate                                 object\n",
       "city                                    object\n",
       "country                                 object\n",
       "cooling_method                          object\n",
       "mixed_cooling_mode                      object\n",
       "heating_method                          object\n",
       "age                                    float64\n",
       "gender                                  object\n",
       "temperature_feeling                    float64\n",
       "temperature_feeling_bool               float64\n",
       "preferred_temperature_change            object\n",
       "air_movement_feeling_bool              float64\n",
       "preferred_air_movement_change           object\n",
       "comfort_rating                         float64\n",
       "clothing_insulation                    float64\n",
       "indoor_air_temperature                 float64\n",
       "outdoor_air_temperature                float64\n",
       "relative_humidity                      float64\n",
       "air_speed                              float64\n",
       "height                                 float64\n",
       "weight                                 float64\n",
       "curtains                               float64\n",
       "fan_mode                               float64\n",
       "window_status                          float64\n",
       "door_status                            float64\n",
       "heating_mode                           float64\n",
       "average_monthly_outdoor_temperature    float64\n",
       "number_of_complaints                     int64\n",
       "dtype: object"
      ]
     },
     "execution_count": 85,
     "metadata": {},
     "output_type": "execute_result"
    }
   ],
   "source": [
    "df.dtypes"
   ]
  },
  {
   "cell_type": "code",
   "execution_count": 86,
   "metadata": {},
   "outputs": [
    {
     "name": "stdout",
     "output_type": "stream",
     "text": [
      "<class 'pandas.core.frame.DataFrame'>\n",
      "RangeIndex: 484 entries, 0 to 483\n",
      "Data columns (total 30 columns):\n",
      " #   Column                               Non-Null Count  Dtype  \n",
      "---  ------                               --------------  -----  \n",
      " 0   year                                 484 non-null    float64\n",
      " 1   season                               484 non-null    object \n",
      " 2   climate                              484 non-null    object \n",
      " 3   city                                 484 non-null    object \n",
      " 4   country                              484 non-null    object \n",
      " 5   cooling_method                       484 non-null    object \n",
      " 6   mixed_cooling_mode                   337 non-null    object \n",
      " 7   heating_method                       222 non-null    object \n",
      " 8   age                                  413 non-null    float64\n",
      " 9   gender                               412 non-null    object \n",
      " 10  temperature_feeling                  484 non-null    float64\n",
      " 11  temperature_feeling_bool             484 non-null    float64\n",
      " 12  preferred_temperature_change         484 non-null    object \n",
      " 13  air_movement_feeling_bool            198 non-null    float64\n",
      " 14  preferred_air_movement_change        484 non-null    object \n",
      " 15  comfort_rating                       215 non-null    float64\n",
      " 16  clothing_insulation                  484 non-null    float64\n",
      " 17  indoor_air_temperature               484 non-null    float64\n",
      " 18  outdoor_air_temperature              72 non-null     float64\n",
      " 19  relative_humidity                    484 non-null    float64\n",
      " 20  air_speed                            484 non-null    float64\n",
      " 21  height                               143 non-null    float64\n",
      " 22  weight                               214 non-null    float64\n",
      " 23  curtains                             72 non-null     float64\n",
      " 24  fan_mode                             146 non-null    float64\n",
      " 25  window_status                        279 non-null    float64\n",
      " 26  door_status                          157 non-null    float64\n",
      " 27  heating_mode                         79 non-null     float64\n",
      " 28  average_monthly_outdoor_temperature  484 non-null    float64\n",
      " 29  number_of_complaints                 484 non-null    int64  \n",
      "dtypes: float64(19), int64(1), object(10)\n",
      "memory usage: 113.6+ KB\n"
     ]
    }
   ],
   "source": [
    "df.info()"
   ]
  },
  {
   "cell_type": "markdown",
   "metadata": {},
   "source": [
    "Проходимся по всем функциям, чтобы узнать подробную информацию о нашем датасете"
   ]
  },
  {
   "cell_type": "code",
   "execution_count": 87,
   "metadata": {},
   "outputs": [
    {
     "data": {
      "text/plain": [
       "year                                   float64\n",
       "season                                  object\n",
       "climate                                 object\n",
       "city                                    object\n",
       "country                                 object\n",
       "cooling_method                          object\n",
       "mixed_cooling_mode                      object\n",
       "heating_method                          object\n",
       "age                                    float64\n",
       "gender                                  object\n",
       "temperature_feeling                    float64\n",
       "temperature_feeling_bool               float64\n",
       "preferred_temperature_change            object\n",
       "air_movement_feeling_bool              float64\n",
       "preferred_air_movement_change           object\n",
       "comfort_rating                         float64\n",
       "clothing_insulation                    float64\n",
       "indoor_air_temperature                 float64\n",
       "outdoor_air_temperature                float64\n",
       "relative_humidity                      float64\n",
       "air_speed                              float64\n",
       "height                                 float64\n",
       "weight                                 float64\n",
       "curtains                               float64\n",
       "fan_mode                               float64\n",
       "window_status                          float64\n",
       "door_status                            float64\n",
       "heating_mode                           float64\n",
       "average_monthly_outdoor_temperature    float64\n",
       "number_of_complaints                     int64\n",
       "dtype: object"
      ]
     },
     "execution_count": 87,
     "metadata": {},
     "output_type": "execute_result"
    }
   ],
   "source": [
    "df.dtypes"
   ]
  },
  {
   "cell_type": "code",
   "execution_count": 88,
   "metadata": {},
   "outputs": [
    {
     "data": {
      "text/html": [
       "<div>\n",
       "<style scoped>\n",
       "    .dataframe tbody tr th:only-of-type {\n",
       "        vertical-align: middle;\n",
       "    }\n",
       "\n",
       "    .dataframe tbody tr th {\n",
       "        vertical-align: top;\n",
       "    }\n",
       "\n",
       "    .dataframe thead th {\n",
       "        text-align: right;\n",
       "    }\n",
       "</style>\n",
       "<table border=\"1\" class=\"dataframe\">\n",
       "  <thead>\n",
       "    <tr style=\"text-align: right;\">\n",
       "      <th></th>\n",
       "      <th>year</th>\n",
       "      <th>age</th>\n",
       "      <th>temperature_feeling</th>\n",
       "      <th>temperature_feeling_bool</th>\n",
       "      <th>air_movement_feeling_bool</th>\n",
       "      <th>comfort_rating</th>\n",
       "      <th>clothing_insulation</th>\n",
       "      <th>indoor_air_temperature</th>\n",
       "      <th>outdoor_air_temperature</th>\n",
       "      <th>relative_humidity</th>\n",
       "      <th>air_speed</th>\n",
       "      <th>height</th>\n",
       "      <th>weight</th>\n",
       "      <th>curtains</th>\n",
       "      <th>fan_mode</th>\n",
       "      <th>window_status</th>\n",
       "      <th>door_status</th>\n",
       "      <th>heating_mode</th>\n",
       "      <th>average_monthly_outdoor_temperature</th>\n",
       "      <th>number_of_complaints</th>\n",
       "    </tr>\n",
       "  </thead>\n",
       "  <tbody>\n",
       "    <tr>\n",
       "      <th>count</th>\n",
       "      <td>484.000000</td>\n",
       "      <td>413.000000</td>\n",
       "      <td>484.000000</td>\n",
       "      <td>484.000000</td>\n",
       "      <td>198.000000</td>\n",
       "      <td>215.000000</td>\n",
       "      <td>484.000000</td>\n",
       "      <td>484.000000</td>\n",
       "      <td>72.000000</td>\n",
       "      <td>484.000000</td>\n",
       "      <td>484.000000</td>\n",
       "      <td>143.000000</td>\n",
       "      <td>214.000000</td>\n",
       "      <td>72.000000</td>\n",
       "      <td>146.000000</td>\n",
       "      <td>279.000000</td>\n",
       "      <td>157.000000</td>\n",
       "      <td>79.00000</td>\n",
       "      <td>484.000000</td>\n",
       "      <td>484.000000</td>\n",
       "    </tr>\n",
       "    <tr>\n",
       "      <th>mean</th>\n",
       "      <td>2011.033058</td>\n",
       "      <td>40.634383</td>\n",
       "      <td>0.203306</td>\n",
       "      <td>0.789256</td>\n",
       "      <td>0.752525</td>\n",
       "      <td>4.772093</td>\n",
       "      <td>0.634587</td>\n",
       "      <td>26.072107</td>\n",
       "      <td>24.104167</td>\n",
       "      <td>52.973760</td>\n",
       "      <td>0.760558</td>\n",
       "      <td>164.411678</td>\n",
       "      <td>65.471963</td>\n",
       "      <td>0.513889</td>\n",
       "      <td>0.527397</td>\n",
       "      <td>0.247312</td>\n",
       "      <td>0.184713</td>\n",
       "      <td>0.78481</td>\n",
       "      <td>27.389669</td>\n",
       "      <td>0.105372</td>\n",
       "    </tr>\n",
       "    <tr>\n",
       "      <th>std</th>\n",
       "      <td>0.922988</td>\n",
       "      <td>11.001301</td>\n",
       "      <td>1.091976</td>\n",
       "      <td>0.408259</td>\n",
       "      <td>0.432639</td>\n",
       "      <td>1.261161</td>\n",
       "      <td>0.253103</td>\n",
       "      <td>7.681363</td>\n",
       "      <td>0.604546</td>\n",
       "      <td>13.036204</td>\n",
       "      <td>4.921106</td>\n",
       "      <td>21.273235</td>\n",
       "      <td>11.574079</td>\n",
       "      <td>0.503315</td>\n",
       "      <td>0.500967</td>\n",
       "      <td>0.432225</td>\n",
       "      <td>0.389307</td>\n",
       "      <td>0.41358</td>\n",
       "      <td>19.469562</td>\n",
       "      <td>0.440276</td>\n",
       "    </tr>\n",
       "    <tr>\n",
       "      <th>min</th>\n",
       "      <td>2010.000000</td>\n",
       "      <td>22.000000</td>\n",
       "      <td>-3.000000</td>\n",
       "      <td>0.000000</td>\n",
       "      <td>0.000000</td>\n",
       "      <td>1.000000</td>\n",
       "      <td>0.360000</td>\n",
       "      <td>16.200000</td>\n",
       "      <td>22.800000</td>\n",
       "      <td>23.800000</td>\n",
       "      <td>0.000000</td>\n",
       "      <td>5.230000</td>\n",
       "      <td>42.000000</td>\n",
       "      <td>0.000000</td>\n",
       "      <td>0.000000</td>\n",
       "      <td>0.000000</td>\n",
       "      <td>0.000000</td>\n",
       "      <td>0.00000</td>\n",
       "      <td>8.500000</td>\n",
       "      <td>0.000000</td>\n",
       "    </tr>\n",
       "    <tr>\n",
       "      <th>25%</th>\n",
       "      <td>2010.000000</td>\n",
       "      <td>35.000000</td>\n",
       "      <td>0.000000</td>\n",
       "      <td>1.000000</td>\n",
       "      <td>1.000000</td>\n",
       "      <td>4.000000</td>\n",
       "      <td>0.460000</td>\n",
       "      <td>23.800000</td>\n",
       "      <td>23.800000</td>\n",
       "      <td>42.775000</td>\n",
       "      <td>0.060000</td>\n",
       "      <td>160.000000</td>\n",
       "      <td>57.000000</td>\n",
       "      <td>0.000000</td>\n",
       "      <td>0.000000</td>\n",
       "      <td>0.000000</td>\n",
       "      <td>0.000000</td>\n",
       "      <td>1.00000</td>\n",
       "      <td>22.000000</td>\n",
       "      <td>0.000000</td>\n",
       "    </tr>\n",
       "    <tr>\n",
       "      <th>50%</th>\n",
       "      <td>2011.000000</td>\n",
       "      <td>42.000000</td>\n",
       "      <td>0.000000</td>\n",
       "      <td>1.000000</td>\n",
       "      <td>1.000000</td>\n",
       "      <td>5.000000</td>\n",
       "      <td>0.590000</td>\n",
       "      <td>24.600000</td>\n",
       "      <td>24.100000</td>\n",
       "      <td>53.750000</td>\n",
       "      <td>0.100000</td>\n",
       "      <td>165.100000</td>\n",
       "      <td>65.000000</td>\n",
       "      <td>1.000000</td>\n",
       "      <td>1.000000</td>\n",
       "      <td>0.000000</td>\n",
       "      <td>0.000000</td>\n",
       "      <td>1.00000</td>\n",
       "      <td>22.000000</td>\n",
       "      <td>0.000000</td>\n",
       "    </tr>\n",
       "    <tr>\n",
       "      <th>75%</th>\n",
       "      <td>2012.000000</td>\n",
       "      <td>45.000000</td>\n",
       "      <td>1.000000</td>\n",
       "      <td>1.000000</td>\n",
       "      <td>1.000000</td>\n",
       "      <td>6.000000</td>\n",
       "      <td>0.700000</td>\n",
       "      <td>25.900000</td>\n",
       "      <td>24.400000</td>\n",
       "      <td>62.325000</td>\n",
       "      <td>0.140000</td>\n",
       "      <td>172.700000</td>\n",
       "      <td>72.750000</td>\n",
       "      <td>1.000000</td>\n",
       "      <td>1.000000</td>\n",
       "      <td>0.000000</td>\n",
       "      <td>0.000000</td>\n",
       "      <td>1.00000</td>\n",
       "      <td>30.800000</td>\n",
       "      <td>0.000000</td>\n",
       "    </tr>\n",
       "    <tr>\n",
       "      <th>max</th>\n",
       "      <td>2012.000000</td>\n",
       "      <td>65.000000</td>\n",
       "      <td>3.000000</td>\n",
       "      <td>1.000000</td>\n",
       "      <td>1.000000</td>\n",
       "      <td>6.000000</td>\n",
       "      <td>2.080000</td>\n",
       "      <td>77.000000</td>\n",
       "      <td>25.900000</td>\n",
       "      <td>85.100000</td>\n",
       "      <td>63.830000</td>\n",
       "      <td>190.500000</td>\n",
       "      <td>110.000000</td>\n",
       "      <td>1.000000</td>\n",
       "      <td>1.000000</td>\n",
       "      <td>1.000000</td>\n",
       "      <td>1.000000</td>\n",
       "      <td>1.00000</td>\n",
       "      <td>328.000000</td>\n",
       "      <td>3.000000</td>\n",
       "    </tr>\n",
       "  </tbody>\n",
       "</table>\n",
       "</div>"
      ],
      "text/plain": [
       "              year         age  temperature_feeling  temperature_feeling_bool  \\\n",
       "count   484.000000  413.000000           484.000000                484.000000   \n",
       "mean   2011.033058   40.634383             0.203306                  0.789256   \n",
       "std       0.922988   11.001301             1.091976                  0.408259   \n",
       "min    2010.000000   22.000000            -3.000000                  0.000000   \n",
       "25%    2010.000000   35.000000             0.000000                  1.000000   \n",
       "50%    2011.000000   42.000000             0.000000                  1.000000   \n",
       "75%    2012.000000   45.000000             1.000000                  1.000000   \n",
       "max    2012.000000   65.000000             3.000000                  1.000000   \n",
       "\n",
       "       air_movement_feeling_bool  comfort_rating  clothing_insulation  \\\n",
       "count                 198.000000      215.000000           484.000000   \n",
       "mean                    0.752525        4.772093             0.634587   \n",
       "std                     0.432639        1.261161             0.253103   \n",
       "min                     0.000000        1.000000             0.360000   \n",
       "25%                     1.000000        4.000000             0.460000   \n",
       "50%                     1.000000        5.000000             0.590000   \n",
       "75%                     1.000000        6.000000             0.700000   \n",
       "max                     1.000000        6.000000             2.080000   \n",
       "\n",
       "       indoor_air_temperature  outdoor_air_temperature  relative_humidity  \\\n",
       "count              484.000000                72.000000         484.000000   \n",
       "mean                26.072107                24.104167          52.973760   \n",
       "std                  7.681363                 0.604546          13.036204   \n",
       "min                 16.200000                22.800000          23.800000   \n",
       "25%                 23.800000                23.800000          42.775000   \n",
       "50%                 24.600000                24.100000          53.750000   \n",
       "75%                 25.900000                24.400000          62.325000   \n",
       "max                 77.000000                25.900000          85.100000   \n",
       "\n",
       "        air_speed      height      weight   curtains    fan_mode  \\\n",
       "count  484.000000  143.000000  214.000000  72.000000  146.000000   \n",
       "mean     0.760558  164.411678   65.471963   0.513889    0.527397   \n",
       "std      4.921106   21.273235   11.574079   0.503315    0.500967   \n",
       "min      0.000000    5.230000   42.000000   0.000000    0.000000   \n",
       "25%      0.060000  160.000000   57.000000   0.000000    0.000000   \n",
       "50%      0.100000  165.100000   65.000000   1.000000    1.000000   \n",
       "75%      0.140000  172.700000   72.750000   1.000000    1.000000   \n",
       "max     63.830000  190.500000  110.000000   1.000000    1.000000   \n",
       "\n",
       "       window_status  door_status  heating_mode  \\\n",
       "count     279.000000   157.000000      79.00000   \n",
       "mean        0.247312     0.184713       0.78481   \n",
       "std         0.432225     0.389307       0.41358   \n",
       "min         0.000000     0.000000       0.00000   \n",
       "25%         0.000000     0.000000       1.00000   \n",
       "50%         0.000000     0.000000       1.00000   \n",
       "75%         0.000000     0.000000       1.00000   \n",
       "max         1.000000     1.000000       1.00000   \n",
       "\n",
       "       average_monthly_outdoor_temperature  number_of_complaints  \n",
       "count                           484.000000            484.000000  \n",
       "mean                             27.389669              0.105372  \n",
       "std                              19.469562              0.440276  \n",
       "min                               8.500000              0.000000  \n",
       "25%                              22.000000              0.000000  \n",
       "50%                              22.000000              0.000000  \n",
       "75%                              30.800000              0.000000  \n",
       "max                             328.000000              3.000000  "
      ]
     },
     "execution_count": 88,
     "metadata": {},
     "output_type": "execute_result"
    }
   ],
   "source": [
    "df.describe()"
   ]
  },
  {
   "cell_type": "markdown",
   "metadata": {},
   "source": [
    "Размеры нашего DF"
   ]
  },
  {
   "cell_type": "code",
   "execution_count": 89,
   "metadata": {},
   "outputs": [
    {
     "data": {
      "text/plain": [
       "(484, 30)"
      ]
     },
     "execution_count": 89,
     "metadata": {},
     "output_type": "execute_result"
    }
   ],
   "source": [
    "df.shape"
   ]
  },
  {
   "cell_type": "markdown",
   "metadata": {},
   "source": [
    "Колонки нашего Data Frame"
   ]
  },
  {
   "cell_type": "code",
   "execution_count": 90,
   "metadata": {},
   "outputs": [
    {
     "data": {
      "text/plain": [
       "Index(['year', 'season', 'climate', 'city', 'country', 'cooling_method',\n",
       "       'mixed_cooling_mode', 'heating_method', 'age', 'gender',\n",
       "       'temperature_feeling', 'temperature_feeling_bool',\n",
       "       'preferred_temperature_change', 'air_movement_feeling_bool',\n",
       "       'preferred_air_movement_change', 'comfort_rating',\n",
       "       'clothing_insulation', 'indoor_air_temperature',\n",
       "       'outdoor_air_temperature', 'relative_humidity', 'air_speed', 'height',\n",
       "       'weight', 'curtains', 'fan_mode', 'window_status', 'door_status',\n",
       "       'heating_mode', 'average_monthly_outdoor_temperature',\n",
       "       'number_of_complaints'],\n",
       "      dtype='object')"
      ]
     },
     "execution_count": 90,
     "metadata": {},
     "output_type": "execute_result"
    }
   ],
   "source": [
    "df.columns"
   ]
  },
  {
   "cell_type": "markdown",
   "metadata": {},
   "source": [
    "Смотрим, какие попуски есть"
   ]
  },
  {
   "cell_type": "code",
   "execution_count": 91,
   "metadata": {},
   "outputs": [
    {
     "name": "stdout",
     "output_type": "stream",
     "text": [
      "\n",
      "Пропущенные значения:\n",
      "year                                     0\n",
      "season                                   0\n",
      "climate                                  0\n",
      "city                                     0\n",
      "country                                  0\n",
      "cooling_method                           0\n",
      "mixed_cooling_mode                     147\n",
      "heating_method                         262\n",
      "age                                     71\n",
      "gender                                  72\n",
      "temperature_feeling                      0\n",
      "temperature_feeling_bool                 0\n",
      "preferred_temperature_change             0\n",
      "air_movement_feeling_bool              286\n",
      "preferred_air_movement_change            0\n",
      "comfort_rating                         269\n",
      "clothing_insulation                      0\n",
      "indoor_air_temperature                   0\n",
      "outdoor_air_temperature                412\n",
      "relative_humidity                        0\n",
      "air_speed                                0\n",
      "height                                 341\n",
      "weight                                 270\n",
      "curtains                               412\n",
      "fan_mode                               338\n",
      "window_status                          205\n",
      "door_status                            327\n",
      "heating_mode                           405\n",
      "average_monthly_outdoor_temperature      0\n",
      "number_of_complaints                     0\n",
      "dtype: int64\n"
     ]
    }
   ],
   "source": [
    "print(\"\\nПропущенные значения:\")\n",
    "print(df.isnull().sum())"
   ]
  },
  {
   "cell_type": "markdown",
   "metadata": {},
   "source": [
    "# Исследование данных на качество и предобработка\n"
   ]
  },
  {
   "cell_type": "markdown",
   "metadata": {},
   "source": [
    "\n",
    "\n",
    "Исследование данных на качество и предобработка\n",
    "Для проведения исследования необходимо:\n",
    "- Названия столбцов привести в соответствии с PEP8\n",
    "- Исследовать типы данных, привести данные к правильному типу, где это необходимо\n",
    "- Проверить данные на пропуски и заполнить их при необходимости. Обосновать решение.\n",
    "- Проверить данные на явные и неявные (в категориальных столбцах) дубликаты. Обработать дубликаты.\n",
    "- Провести аналитический и графический анализ данных. Сделать выводы.\n",
    "- Проверить данные на выбросы и адекватность данных. Предположить причину возникновения выбросов и обработать такие значения.\n",
    "\n",
    "\n",
    "\n"
   ]
  },
  {
   "cell_type": "markdown",
   "metadata": {},
   "source": [
    "## Названия столбцов привести в соответствии с PEP8"
   ]
  },
  {
   "cell_type": "code",
   "execution_count": 92,
   "metadata": {},
   "outputs": [],
   "source": [
    "df.columns = df.columns.str.lower().str.replace(' ', '_').str.replace('(', '').str.replace(')', '')"
   ]
  },
  {
   "cell_type": "markdown",
   "metadata": {},
   "source": [
    "Провека, что все прошло успешно"
   ]
  },
  {
   "cell_type": "code",
   "execution_count": 93,
   "metadata": {},
   "outputs": [
    {
     "data": {
      "text/plain": [
       "Index(['year', 'season', 'climate', 'city', 'country', 'cooling_method',\n",
       "       'mixed_cooling_mode', 'heating_method', 'age', 'gender',\n",
       "       'temperature_feeling', 'temperature_feeling_bool',\n",
       "       'preferred_temperature_change', 'air_movement_feeling_bool',\n",
       "       'preferred_air_movement_change', 'comfort_rating',\n",
       "       'clothing_insulation', 'indoor_air_temperature',\n",
       "       'outdoor_air_temperature', 'relative_humidity', 'air_speed', 'height',\n",
       "       'weight', 'curtains', 'fan_mode', 'window_status', 'door_status',\n",
       "       'heating_mode', 'average_monthly_outdoor_temperature',\n",
       "       'number_of_complaints'],\n",
       "      dtype='object')"
      ]
     },
     "execution_count": 93,
     "metadata": {},
     "output_type": "execute_result"
    }
   ],
   "source": [
    "df.columns"
   ]
  },
  {
   "cell_type": "code",
   "execution_count": 94,
   "metadata": {},
   "outputs": [
    {
     "data": {
      "text/html": [
       "<div>\n",
       "<style scoped>\n",
       "    .dataframe tbody tr th:only-of-type {\n",
       "        vertical-align: middle;\n",
       "    }\n",
       "\n",
       "    .dataframe tbody tr th {\n",
       "        vertical-align: top;\n",
       "    }\n",
       "\n",
       "    .dataframe thead th {\n",
       "        text-align: right;\n",
       "    }\n",
       "</style>\n",
       "<table border=\"1\" class=\"dataframe\">\n",
       "  <thead>\n",
       "    <tr style=\"text-align: right;\">\n",
       "      <th></th>\n",
       "      <th>year</th>\n",
       "      <th>season</th>\n",
       "      <th>climate</th>\n",
       "      <th>city</th>\n",
       "      <th>country</th>\n",
       "      <th>cooling_method</th>\n",
       "      <th>mixed_cooling_mode</th>\n",
       "      <th>heating_method</th>\n",
       "      <th>age</th>\n",
       "      <th>gender</th>\n",
       "      <th>...</th>\n",
       "      <th>air_speed</th>\n",
       "      <th>height</th>\n",
       "      <th>weight</th>\n",
       "      <th>curtains</th>\n",
       "      <th>fan_mode</th>\n",
       "      <th>window_status</th>\n",
       "      <th>door_status</th>\n",
       "      <th>heating_mode</th>\n",
       "      <th>average_monthly_outdoor_temperature</th>\n",
       "      <th>number_of_complaints</th>\n",
       "    </tr>\n",
       "  </thead>\n",
       "  <tbody>\n",
       "    <tr>\n",
       "      <th>0</th>\n",
       "      <td>2011.0</td>\n",
       "      <td>Лето</td>\n",
       "      <td>Cубтропический океанический</td>\n",
       "      <td>Техас</td>\n",
       "      <td>США</td>\n",
       "      <td>Кондиционирование</td>\n",
       "      <td>NaN</td>\n",
       "      <td>NaN</td>\n",
       "      <td>22.0</td>\n",
       "      <td>NaN</td>\n",
       "      <td>...</td>\n",
       "      <td>0.26</td>\n",
       "      <td>NaN</td>\n",
       "      <td>NaN</td>\n",
       "      <td>1.0</td>\n",
       "      <td>1.0</td>\n",
       "      <td>NaN</td>\n",
       "      <td>NaN</td>\n",
       "      <td>NaN</td>\n",
       "      <td>28.9</td>\n",
       "      <td>0</td>\n",
       "    </tr>\n",
       "    <tr>\n",
       "      <th>1</th>\n",
       "      <td>2011.0</td>\n",
       "      <td>Лето</td>\n",
       "      <td>Cубтропический океанический</td>\n",
       "      <td>Техас</td>\n",
       "      <td>США</td>\n",
       "      <td>Кондиционирование</td>\n",
       "      <td>NaN</td>\n",
       "      <td>NaN</td>\n",
       "      <td>40.0</td>\n",
       "      <td>NaN</td>\n",
       "      <td>...</td>\n",
       "      <td>0.12</td>\n",
       "      <td>NaN</td>\n",
       "      <td>NaN</td>\n",
       "      <td>0.0</td>\n",
       "      <td>0.0</td>\n",
       "      <td>NaN</td>\n",
       "      <td>NaN</td>\n",
       "      <td>NaN</td>\n",
       "      <td>84.0</td>\n",
       "      <td>0</td>\n",
       "    </tr>\n",
       "    <tr>\n",
       "      <th>2</th>\n",
       "      <td>2011.0</td>\n",
       "      <td>Лето</td>\n",
       "      <td>Cубтропический океанический</td>\n",
       "      <td>Техас</td>\n",
       "      <td>США</td>\n",
       "      <td>Кондиционирование</td>\n",
       "      <td>NaN</td>\n",
       "      <td>NaN</td>\n",
       "      <td>42.0</td>\n",
       "      <td>NaN</td>\n",
       "      <td>...</td>\n",
       "      <td>0.08</td>\n",
       "      <td>NaN</td>\n",
       "      <td>NaN</td>\n",
       "      <td>0.0</td>\n",
       "      <td>0.0</td>\n",
       "      <td>NaN</td>\n",
       "      <td>NaN</td>\n",
       "      <td>NaN</td>\n",
       "      <td>32.8</td>\n",
       "      <td>0</td>\n",
       "    </tr>\n",
       "    <tr>\n",
       "      <th>3</th>\n",
       "      <td>2011.0</td>\n",
       "      <td>Лето</td>\n",
       "      <td>Cубтропический океанический</td>\n",
       "      <td>Техас</td>\n",
       "      <td>США</td>\n",
       "      <td>Кондиционирование</td>\n",
       "      <td>NaN</td>\n",
       "      <td>NaN</td>\n",
       "      <td>27.0</td>\n",
       "      <td>NaN</td>\n",
       "      <td>...</td>\n",
       "      <td>27.16</td>\n",
       "      <td>NaN</td>\n",
       "      <td>NaN</td>\n",
       "      <td>1.0</td>\n",
       "      <td>1.0</td>\n",
       "      <td>NaN</td>\n",
       "      <td>NaN</td>\n",
       "      <td>NaN</td>\n",
       "      <td>28.9</td>\n",
       "      <td>1</td>\n",
       "    </tr>\n",
       "    <tr>\n",
       "      <th>4</th>\n",
       "      <td>2011.0</td>\n",
       "      <td>Лето</td>\n",
       "      <td>Cубтропический океанический</td>\n",
       "      <td>Техас</td>\n",
       "      <td>США</td>\n",
       "      <td>Кондиционирование</td>\n",
       "      <td>NaN</td>\n",
       "      <td>NaN</td>\n",
       "      <td>46.0</td>\n",
       "      <td>NaN</td>\n",
       "      <td>...</td>\n",
       "      <td>63.83</td>\n",
       "      <td>NaN</td>\n",
       "      <td>NaN</td>\n",
       "      <td>1.0</td>\n",
       "      <td>1.0</td>\n",
       "      <td>NaN</td>\n",
       "      <td>NaN</td>\n",
       "      <td>NaN</td>\n",
       "      <td>32.8</td>\n",
       "      <td>0</td>\n",
       "    </tr>\n",
       "    <tr>\n",
       "      <th>...</th>\n",
       "      <td>...</td>\n",
       "      <td>...</td>\n",
       "      <td>...</td>\n",
       "      <td>...</td>\n",
       "      <td>...</td>\n",
       "      <td>...</td>\n",
       "      <td>...</td>\n",
       "      <td>...</td>\n",
       "      <td>...</td>\n",
       "      <td>...</td>\n",
       "      <td>...</td>\n",
       "      <td>...</td>\n",
       "      <td>...</td>\n",
       "      <td>...</td>\n",
       "      <td>...</td>\n",
       "      <td>...</td>\n",
       "      <td>...</td>\n",
       "      <td>...</td>\n",
       "      <td>...</td>\n",
       "      <td>...</td>\n",
       "      <td>...</td>\n",
       "    </tr>\n",
       "    <tr>\n",
       "      <th>479</th>\n",
       "      <td>2012.0</td>\n",
       "      <td>Лето</td>\n",
       "      <td>Влажный субтропический муссонный</td>\n",
       "      <td>Дели</td>\n",
       "      <td>Индия</td>\n",
       "      <td>Смешанный</td>\n",
       "      <td>Вентиляция</td>\n",
       "      <td>NaN</td>\n",
       "      <td>35.0</td>\n",
       "      <td>Мужской</td>\n",
       "      <td>...</td>\n",
       "      <td>0.32</td>\n",
       "      <td>172.7</td>\n",
       "      <td>50.0</td>\n",
       "      <td>NaN</td>\n",
       "      <td>1.0</td>\n",
       "      <td>1.0</td>\n",
       "      <td>NaN</td>\n",
       "      <td>0.0</td>\n",
       "      <td>30.9</td>\n",
       "      <td>0</td>\n",
       "    </tr>\n",
       "    <tr>\n",
       "      <th>480</th>\n",
       "      <td>2012.0</td>\n",
       "      <td>Зима</td>\n",
       "      <td>Тропическая влажная саванна</td>\n",
       "      <td>Ченнай</td>\n",
       "      <td>Индия</td>\n",
       "      <td>Смешанный</td>\n",
       "      <td>Кондиционирование</td>\n",
       "      <td>NaN</td>\n",
       "      <td>NaN</td>\n",
       "      <td>Мужской</td>\n",
       "      <td>...</td>\n",
       "      <td>0.16</td>\n",
       "      <td>NaN</td>\n",
       "      <td>65.0</td>\n",
       "      <td>NaN</td>\n",
       "      <td>NaN</td>\n",
       "      <td>0.0</td>\n",
       "      <td>0.0</td>\n",
       "      <td>NaN</td>\n",
       "      <td>30.8</td>\n",
       "      <td>0</td>\n",
       "    </tr>\n",
       "    <tr>\n",
       "      <th>481</th>\n",
       "      <td>2012.0</td>\n",
       "      <td>Зима</td>\n",
       "      <td>Жаркий полузасушливый</td>\n",
       "      <td>Хайдарабад</td>\n",
       "      <td>Индия</td>\n",
       "      <td>Смешанный</td>\n",
       "      <td>Кондиционирование</td>\n",
       "      <td>NaN</td>\n",
       "      <td>NaN</td>\n",
       "      <td>Женский</td>\n",
       "      <td>...</td>\n",
       "      <td>0.02</td>\n",
       "      <td>NaN</td>\n",
       "      <td>76.0</td>\n",
       "      <td>NaN</td>\n",
       "      <td>NaN</td>\n",
       "      <td>0.0</td>\n",
       "      <td>0.0</td>\n",
       "      <td>NaN</td>\n",
       "      <td>21.6</td>\n",
       "      <td>0</td>\n",
       "    </tr>\n",
       "    <tr>\n",
       "      <th>482</th>\n",
       "      <td>2012.0</td>\n",
       "      <td>Зима</td>\n",
       "      <td>Жаркий полузасушливый</td>\n",
       "      <td>Хайдарабад</td>\n",
       "      <td>Индия</td>\n",
       "      <td>Смешанный</td>\n",
       "      <td>Кондиционирование</td>\n",
       "      <td>NaN</td>\n",
       "      <td>NaN</td>\n",
       "      <td>Женский</td>\n",
       "      <td>...</td>\n",
       "      <td>0.02</td>\n",
       "      <td>NaN</td>\n",
       "      <td>76.0</td>\n",
       "      <td>NaN</td>\n",
       "      <td>NaN</td>\n",
       "      <td>0.0</td>\n",
       "      <td>0.0</td>\n",
       "      <td>NaN</td>\n",
       "      <td>21.6</td>\n",
       "      <td>0</td>\n",
       "    </tr>\n",
       "    <tr>\n",
       "      <th>483</th>\n",
       "      <td>2012.0</td>\n",
       "      <td>Зима</td>\n",
       "      <td>Жаркий полузасушливый</td>\n",
       "      <td>Хайдарабад</td>\n",
       "      <td>Индия</td>\n",
       "      <td>Смешанный</td>\n",
       "      <td>Кондиционирование</td>\n",
       "      <td>NaN</td>\n",
       "      <td>NaN</td>\n",
       "      <td>Женский</td>\n",
       "      <td>...</td>\n",
       "      <td>0.02</td>\n",
       "      <td>NaN</td>\n",
       "      <td>76.0</td>\n",
       "      <td>NaN</td>\n",
       "      <td>NaN</td>\n",
       "      <td>0.0</td>\n",
       "      <td>0.0</td>\n",
       "      <td>NaN</td>\n",
       "      <td>21.6</td>\n",
       "      <td>0</td>\n",
       "    </tr>\n",
       "  </tbody>\n",
       "</table>\n",
       "<p>484 rows × 30 columns</p>\n",
       "</div>"
      ],
      "text/plain": [
       "       year season                           climate        city country  \\\n",
       "0    2011.0   Лето       Cубтропический океанический       Техас     США   \n",
       "1    2011.0   Лето       Cубтропический океанический       Техас     США   \n",
       "2    2011.0   Лето       Cубтропический океанический       Техас     США   \n",
       "3    2011.0   Лето       Cубтропический океанический       Техас     США   \n",
       "4    2011.0   Лето       Cубтропический океанический       Техас     США   \n",
       "..      ...    ...                               ...         ...     ...   \n",
       "479  2012.0   Лето  Влажный субтропический муссонный        Дели   Индия   \n",
       "480  2012.0   Зима       Тропическая влажная саванна      Ченнай   Индия   \n",
       "481  2012.0   Зима             Жаркий полузасушливый  Хайдарабад   Индия   \n",
       "482  2012.0   Зима             Жаркий полузасушливый  Хайдарабад   Индия   \n",
       "483  2012.0   Зима             Жаркий полузасушливый  Хайдарабад   Индия   \n",
       "\n",
       "        cooling_method mixed_cooling_mode heating_method   age   gender  ...  \\\n",
       "0    Кондиционирование                NaN            NaN  22.0      NaN  ...   \n",
       "1    Кондиционирование                NaN            NaN  40.0      NaN  ...   \n",
       "2    Кондиционирование                NaN            NaN  42.0      NaN  ...   \n",
       "3    Кондиционирование                NaN            NaN  27.0      NaN  ...   \n",
       "4    Кондиционирование                NaN            NaN  46.0      NaN  ...   \n",
       "..                 ...                ...            ...   ...      ...  ...   \n",
       "479          Смешанный         Вентиляция            NaN  35.0  Мужской  ...   \n",
       "480          Смешанный  Кондиционирование            NaN   NaN  Мужской  ...   \n",
       "481          Смешанный  Кондиционирование            NaN   NaN  Женский  ...   \n",
       "482          Смешанный  Кондиционирование            NaN   NaN  Женский  ...   \n",
       "483          Смешанный  Кондиционирование            NaN   NaN  Женский  ...   \n",
       "\n",
       "     air_speed  height weight  curtains fan_mode  window_status  door_status  \\\n",
       "0         0.26     NaN    NaN       1.0      1.0            NaN          NaN   \n",
       "1         0.12     NaN    NaN       0.0      0.0            NaN          NaN   \n",
       "2         0.08     NaN    NaN       0.0      0.0            NaN          NaN   \n",
       "3        27.16     NaN    NaN       1.0      1.0            NaN          NaN   \n",
       "4        63.83     NaN    NaN       1.0      1.0            NaN          NaN   \n",
       "..         ...     ...    ...       ...      ...            ...          ...   \n",
       "479       0.32   172.7   50.0       NaN      1.0            1.0          NaN   \n",
       "480       0.16     NaN   65.0       NaN      NaN            0.0          0.0   \n",
       "481       0.02     NaN   76.0       NaN      NaN            0.0          0.0   \n",
       "482       0.02     NaN   76.0       NaN      NaN            0.0          0.0   \n",
       "483       0.02     NaN   76.0       NaN      NaN            0.0          0.0   \n",
       "\n",
       "     heating_mode  average_monthly_outdoor_temperature  number_of_complaints  \n",
       "0             NaN                                 28.9                     0  \n",
       "1             NaN                                 84.0                     0  \n",
       "2             NaN                                 32.8                     0  \n",
       "3             NaN                                 28.9                     1  \n",
       "4             NaN                                 32.8                     0  \n",
       "..            ...                                  ...                   ...  \n",
       "479           0.0                                 30.9                     0  \n",
       "480           NaN                                 30.8                     0  \n",
       "481           NaN                                 21.6                     0  \n",
       "482           NaN                                 21.6                     0  \n",
       "483           NaN                                 21.6                     0  \n",
       "\n",
       "[484 rows x 30 columns]"
      ]
     },
     "execution_count": 94,
     "metadata": {},
     "output_type": "execute_result"
    }
   ],
   "source": [
    "df"
   ]
  },
  {
   "cell_type": "markdown",
   "metadata": {},
   "source": [
    "## Исследовать типы данных, привести данные к правильному типу, где это необходимо"
   ]
  },
  {
   "cell_type": "markdown",
   "metadata": {},
   "source": [
    "Изменение колонок в categorical_cols для дальнейшего удобства работы с ними"
   ]
  },
  {
   "cell_type": "code",
   "execution_count": 95,
   "metadata": {},
   "outputs": [],
   "source": [
    "categorical_cols = [\n",
    "    'season', 'climate', 'city', 'country', 'cooling_method',\n",
    "    'mixed_cooling_mode', 'heating_method', 'gender',\n",
    "    'preferred_temperature_change', 'preferred_air_movement_change'\n",
    "]\n",
    "\n",
    "for col in categorical_cols:\n",
    "    if col in df.columns:\n",
    "        df[col] = df[col].astype('category')"
   ]
  },
  {
   "cell_type": "markdown",
   "metadata": {},
   "source": [
    "Также проходимся по остальным значениям и приводим их к нужному типу данных"
   ]
  },
  {
   "cell_type": "code",
   "execution_count": 96,
   "metadata": {},
   "outputs": [],
   "source": [
    "bool_cols = [\n",
    "    'temperature_feeling_bool', 'air_movement_feeling_bool',\n",
    "    'curtains', 'fan_mode', 'window_status', 'door_status', 'heating_mode'\n",
    "]\n",
    "\n",
    "for col in bool_cols:\n",
    "    if col in df.columns:\n",
    "        df[col] = df[col].astype('bool')"
   ]
  },
  {
   "cell_type": "code",
   "execution_count": 97,
   "metadata": {},
   "outputs": [],
   "source": [
    "numeric_cols = [\n",
    "    'year', 'age', 'temperature_feeling', 'comfort_rating',\n",
    "    'clothing_insulation', 'indoor_air_temperature', 'outdoor_air_temperature',\n",
    "    'relative_humidity', 'air_speed', 'height', 'weight',\n",
    "    'average_monthly_outdoor_temperature', 'number_of_complaints'\n",
    "]\n",
    "\n",
    "# Columns that should be integers (rounded to 0 decimal places)\n",
    "int_cols = ['year', 'age', 'clothing_insulation', 'number_of_complaints', 'height', 'weight', 'comfort_rating']\n",
    "# Remaining numeric columns stay as float\n",
    "float_cols = [col for col in numeric_cols if col not in int_cols]\n",
    "\n",
    "for col in numeric_cols:\n",
    "    if col in df.columns:\n",
    "        if col in int_cols:\n",
    "            # First round, then convert to Int64 (nullable integer)\n",
    "            df[col] = pd.to_numeric(df[col], errors='coerce').round(0).astype('Int64')\n",
    "        else:\n",
    "            df[col] = pd.to_numeric(df[col], errors='coerce').astype(float)"
   ]
  },
  {
   "cell_type": "code",
   "execution_count": 98,
   "metadata": {},
   "outputs": [],
   "source": [
    "df['year'] = df['year'].astype(int)"
   ]
  },
  {
   "cell_type": "markdown",
   "metadata": {},
   "source": [
    "Проверка, что все прошло успешно"
   ]
  },
  {
   "cell_type": "code",
   "execution_count": 99,
   "metadata": {},
   "outputs": [
    {
     "data": {
      "text/plain": [
       "year                                      int64\n",
       "season                                 category\n",
       "climate                                category\n",
       "city                                   category\n",
       "country                                category\n",
       "cooling_method                         category\n",
       "mixed_cooling_mode                     category\n",
       "heating_method                         category\n",
       "age                                       Int64\n",
       "gender                                 category\n",
       "temperature_feeling                     float64\n",
       "temperature_feeling_bool                   bool\n",
       "preferred_temperature_change           category\n",
       "air_movement_feeling_bool                  bool\n",
       "preferred_air_movement_change          category\n",
       "comfort_rating                            Int64\n",
       "clothing_insulation                       Int64\n",
       "indoor_air_temperature                  float64\n",
       "outdoor_air_temperature                 float64\n",
       "relative_humidity                       float64\n",
       "air_speed                               float64\n",
       "height                                    Int64\n",
       "weight                                    Int64\n",
       "curtains                                   bool\n",
       "fan_mode                                   bool\n",
       "window_status                              bool\n",
       "door_status                                bool\n",
       "heating_mode                               bool\n",
       "average_monthly_outdoor_temperature     float64\n",
       "number_of_complaints                      Int64\n",
       "dtype: object"
      ]
     },
     "execution_count": 99,
     "metadata": {},
     "output_type": "execute_result"
    }
   ],
   "source": [
    "df.dtypes"
   ]
  },
  {
   "cell_type": "markdown",
   "metadata": {},
   "source": []
  },
  {
   "cell_type": "markdown",
   "metadata": {},
   "source": [
    "## Проверить данные на выбросы и адекватность данных. Предположить причину возникновения выбросов и обработать такие значения.\n"
   ]
  },
  {
   "cell_type": "markdown",
   "metadata": {},
   "source": [
    "### Колонка \"Climate\""
   ]
  },
  {
   "cell_type": "code",
   "execution_count": 100,
   "metadata": {},
   "outputs": [],
   "source": [
    "df[\"climate\"] = df[\"climate\"].replace({\n",
    "    \"Cубтроп океанич\" : 'Cубтропический океанический'\n",
    "})"
   ]
  },
  {
   "cell_type": "code",
   "execution_count": 101,
   "metadata": {},
   "outputs": [
    {
     "data": {
      "text/plain": [
       "['Cубтропический океанический', 'Субтропическое высокогорье', 'Жаркий полузасушливый', 'Тропическая влажная саванна', 'Влажный субтропический муссонный']\n",
       "Categories (5, object): ['Cубтропический океанический', 'Влажный субтропический муссонный', 'Жаркий полузасушливый', 'Субтропическое высокогорье', 'Тропическая влажная саванна']"
      ]
     },
     "execution_count": 101,
     "metadata": {},
     "output_type": "execute_result"
    }
   ],
   "source": [
    "df[\"climate\"].unique()"
   ]
  },
  {
   "cell_type": "markdown",
   "metadata": {},
   "source": [
    "### Колонка \"температура_воздуха_в_помещении\""
   ]
  },
  {
   "cell_type": "code",
   "execution_count": 102,
   "metadata": {},
   "outputs": [
    {
     "name": "stdout",
     "output_type": "stream",
     "text": [
      "Q1 (25th percentile): 23.8\n",
      "Q3 (75th percentile): 25.9\n",
      "IQR: 2.099999999999998\n",
      "Lower outlier boundary: 20.650000000000006\n",
      "Upper outlier boundary: 29.049999999999997\n",
      "\n",
      "Number of outliers: 58\n",
      "\n",
      "Sample outliers:\n",
      "    indoor_air_temperature\n",
      "1                     74.8\n",
      "7                     74.8\n",
      "9                     76.4\n",
      "23                    77.0\n",
      "33                    74.9\n",
      "38                    75.5\n",
      "41                    75.7\n",
      "45                    74.0\n",
      "54                    75.7\n",
      "67                    74.9\n"
     ]
    },
    {
     "data": {
      "image/png": "[encoded data removed]",
      "text/plain": [
       "<Figure size 1000x600 with 1 Axes>"
      ]
     },
     "metadata": {},
     "output_type": "display_data"
    },
    {
     "name": "stdout",
     "output_type": "stream",
     "text": [
      "\n",
      "Original dataset size: 484\n",
      "Size after outlier removal: 426\n",
      "Records removed: 58\n"
     ]
    },
    {
     "data": {
      "image/png": "[encoded data removed]",
      "text/plain": [
       "<Figure size 1000x600 with 1 Axes>"
      ]
     },
     "metadata": {},
     "output_type": "display_data"
    }
   ],
   "source": [
    "\n",
    "column = 'indoor_air_temperature'\n",
    "\n",
    "\n",
    "Q1 = df[column].quantile(0.25)\n",
    "Q3 = df[column].quantile(0.75)\n",
    "IQR = Q3 - Q1\n",
    "\n",
    "\n",
    "lower_bound = Q1 - 1.5 * IQR\n",
    "upper_bound = Q3 + 1.5 * IQR\n",
    "\n",
    "# Display statistics\n",
    "print(f\"Q1 (25th percentile): {Q1}\")\n",
    "print(f\"Q3 (75th percentile): {Q3}\")\n",
    "print(f\"IQR: {IQR}\")\n",
    "print(f\"Lower outlier boundary: {lower_bound}\")\n",
    "print(f\"Upper outlier boundary: {upper_bound}\")\n",
    "\n",
    "# Identify outliers\n",
    "outliers = df[(df[column] < lower_bound) | (df[column] > upper_bound)]\n",
    "print(f\"\\nNumber of outliers: {len(outliers)}\")\n",
    "print(\"\\nSample outliers:\")\n",
    "print(outliers[[column]].head(10))\n",
    "\n",
    "#  Visualization (boxplot before processing)\n",
    "plt.figure(figsize=(10, 6))\n",
    "sns.boxplot(x=df[column])\n",
    "plt.title('Indoor Air Temperature Distribution (Before Outlier Removal)')\n",
    "plt.xlabel('Temperature (°C)')\n",
    "plt.show()\n",
    "\n",
    "#  Remove outliers (create new dataframe)\n",
    "df_no_outliers_Indoor_Air_Temperature = df[(df[column] >= lower_bound) & (df[column] <= upper_bound)].copy()\n",
    "\n",
    "# Verification\n",
    "print(f\"\\nOriginal dataset size: {len(df)}\")\n",
    "print(f\"Size after outlier removal: {len(df_no_outliers_Indoor_Air_Temperature)}\")\n",
    "print(f\"Records removed: {len(df) - len(df_no_outliers_Indoor_Air_Temperature)}\")\n",
    "\n",
    "#  Visualization after processing\n",
    "plt.figure(figsize=(10, 6))\n",
    "sns.boxplot(x=df_no_outliers_Indoor_Air_Temperature[column])\n",
    "plt.title('Indoor Air Temperature Distribution After Outlier Removal')\n",
    "plt.xlabel('Temperature (°C)')\n",
    "plt.show()"
   ]
  },
  {
   "cell_type": "markdown",
   "metadata": {},
   "source": [
    "### Колонка \"среднемесячная_температура_на_улице\""
   ]
  },
  {
   "cell_type": "markdown",
   "metadata": {},
   "source": [
    "Удалили выбросы через 1,5 IQT и получили адекватные значения температуры в помещении"
   ]
  },
  {
   "cell_type": "code",
   "execution_count": 103,
   "metadata": {},
   "outputs": [],
   "source": [
    "# Заменяем явные ошибки\n",
    "df['average_monthly_outdoor_temperature'] = df['average_monthly_outdoor_temperature'].replace(\n",
    "    {328.0: 32.8, 220.0: 22.0}\n",
    ")\n"
   ]
  },
  {
   "cell_type": "code",
   "execution_count": 104,
   "metadata": {},
   "outputs": [
    {
     "name": "stdout",
     "output_type": "stream",
     "text": [
      "Статистика для столбца average_monthly_outdoor_temperature:\n",
      "Q1 (25-й перцентиль): 22.00°C\n",
      "Q3 (75-й перцентиль): 30.40°C\n",
      "IQR (межквартильный размах): 8.40°C\n",
      "Нижняя граница выбросов: 9.40°C\n",
      "Верхняя граница выбросов: 43.00°C\n",
      "\n",
      "Обнаружено выбросов: 14\n",
      "\n",
      "Примеры выбросов:\n",
      "    average_monthly_outdoor_temperature\n",
      "11                                328.0\n",
      "14                                 84.0\n",
      "20                                 91.0\n",
      "28                                 91.0\n",
      "30                                 91.0\n",
      "34                                 89.0\n",
      "39                                 89.0\n",
      "44                                 84.0\n",
      "68                                 91.0\n",
      "81                                220.0\n"
     ]
    },
    {
     "data": {
      "image/png": "[encoded data removed]",
      "text/plain": [
       "<Figure size 1200x600 with 1 Axes>"
      ]
     },
     "metadata": {},
     "output_type": "display_data"
    },
    {
     "name": "stdout",
     "output_type": "stream",
     "text": [
      "\n",
      "Сравнение размеров данных:\n",
      "Исходный размер: 426 записей\n",
      "После удаления выбросов: 412 записей\n",
      "Удалено записей: 14\n"
     ]
    },
    {
     "data": {
      "image/png": "[encoded data removed]",
      "text/plain": [
       "<Figure size 1200x600 with 1 Axes>"
      ]
     },
     "metadata": {},
     "output_type": "display_data"
    }
   ],
   "source": [
    "# \n",
    "column = 'average_monthly_outdoor_temperature'\n",
    "\n",
    "\n",
    "Q1 = df_no_outliers_Indoor_Air_Temperature[column].quantile(0.25)  \n",
    "Q3 = df_no_outliers_Indoor_Air_Temperature[column].quantile(0.75)  \n",
    "IQR = Q3 - Q1  \n",
    "\n",
    "\n",
    "lower_bound = Q1 - 1.5 * IQR  \n",
    "upper_bound = Q3 + 1.5 * IQR  \n",
    "\n",
    "\n",
    "print(f\"Статистика для столбца {column}:\")\n",
    "print(f\"Q1 (25-й перцентиль): {Q1:.2f}°C\")\n",
    "print(f\"Q3 (75-й перцентиль): {Q3:.2f}°C\")\n",
    "print(f\"IQR (межквартильный размах): {IQR:.2f}°C\")\n",
    "print(f\"Нижняя граница выбросов: {lower_bound:.2f}°C\") \n",
    "print(f\"Верхняя граница выбросов: {upper_bound:.2f}°C\")\n",
    "\n",
    "\n",
    "outliers = df_no_outliers_Indoor_Air_Temperature[\n",
    "    (df_no_outliers_Indoor_Air_Temperature[column] < lower_bound) | \n",
    "    (df_no_outliers_Indoor_Air_Temperature[column] > upper_bound)\n",
    "]\n",
    "\n",
    "print(f\"\\nОбнаружено выбросов: {len(outliers)}\")\n",
    "print(\"\\nПримеры выбросов:\")\n",
    "print(outliers[[column]].head(10))\n",
    "\n",
    "#  Визуализация распределения до обработки\n",
    "plt.figure(figsize=(12, 6))\n",
    "sns.boxplot(x=df_no_outliers_Indoor_Air_Temperature[column])\n",
    "plt.title('Распределение средней месячной температуры на улице (до обработки выбросов)')\n",
    "plt.xlabel('Температура (°C)')\n",
    "plt.grid(True)\n",
    "plt.show()\n",
    "\n",
    "#  Создаем новый датафрейм без выбросов\n",
    "df_no_outliers = df_no_outliers_Indoor_Air_Temperature[\n",
    "    (df_no_outliers_Indoor_Air_Temperature[column] >= lower_bound) & \n",
    "    (df_no_outliers_Indoor_Air_Temperature[column] <= upper_bound)\n",
    "].copy()\n",
    "\n",
    "# Выводим сравнение размеров данных\n",
    "print(f\"\\nСравнение размеров данных:\")\n",
    "print(f\"Исходный размер: {len(df_no_outliers_Indoor_Air_Temperature)} записей\")\n",
    "print(f\"После удаления выбросов: {len(df_no_outliers)} записей\")\n",
    "print(f\"Удалено записей: {len(df_no_outliers_Indoor_Air_Temperature) - len(df_no_outliers)}\")\n",
    "\n",
    "#  Визуализация после обработки\n",
    "plt.figure(figsize=(12, 6))\n",
    "sns.boxplot(x=df_no_outliers[column])\n",
    "plt.title('Распределение средней месячной температуры после удаления выбросов')\n",
    "plt.xlabel('Температура (°C)')\n",
    "plt.grid(True)\n",
    "plt.show()"
   ]
  },
  {
   "cell_type": "markdown",
   "metadata": {},
   "source": [
    "Данные стали более однородными, что улучшит анализ. Убрали выбросы, чтобы ананализ стал четче"
   ]
  },
  {
   "cell_type": "markdown",
   "metadata": {},
   "source": [
    "### Колонка \"скорость_воздуха\""
   ]
  },
  {
   "cell_type": "code",
   "execution_count": 105,
   "metadata": {},
   "outputs": [
    {
     "name": "stdout",
     "output_type": "stream",
     "text": [
      "==================================================\n",
      "АНАЛИЗ СКОРОСТИ ВОЗДУХА\n",
      "==================================================\n",
      "Минимальное значение: 0.00 м/с\n",
      "Максимальное значение: 63.83 м/с\n",
      "Среднее значение: 0.74 м/с\n",
      "Q1 (25-й перцентиль): 0.07 м/с\n",
      "Q3 (75-й перцентиль): 0.13 м/с\n",
      "IQR: 0.06 м/с\n",
      "Верхняя граница выбросов: 0.22 м/с\n",
      "\n",
      "Количество выбросов: 37\n",
      "Процент выбросов: 9.0%\n",
      "\n",
      "Примеры выбросов:\n",
      "     air_speed\n",
      "4        63.83\n",
      "26       46.00\n",
      "31       29.61\n",
      "3        27.16\n",
      "53       26.49\n",
      "59       22.68\n",
      "10       18.65\n",
      "65       14.85\n",
      "70        8.20\n",
      "291       1.42\n"
     ]
    },
    {
     "data": {
      "image/png": "[encoded data removed]",
      "text/plain": [
       "<Figure size 1200x600 with 2 Axes>"
      ]
     },
     "metadata": {},
     "output_type": "display_data"
    },
    {
     "name": "stdout",
     "output_type": "stream",
     "text": [
      "\n",
      "==================================================\n",
      "РЕЗУЛЬТАТЫ ОЧИСТКИ\n",
      "==================================================\n",
      "Исходный размер данных: 412\n",
      "После удаления отрицательных значений: 412\n",
      "После удаления выбросов: 375\n",
      "Всего удалено записей: 37\n",
      "Новый диапазон: 0.00 - 0.22 м/с\n"
     ]
    },
    {
     "data": {
      "image/png": "[encoded data removed]",
      "text/plain": [
       "<Figure size 1200x600 with 2 Axes>"
      ]
     },
     "metadata": {},
     "output_type": "display_data"
    }
   ],
   "source": [
    "df_air_speed_cleaned = df_no_outliers.copy()\n",
    "\n",
    "#Удаляем отрицательные значения скорости воздуха (физически невозможные)\n",
    "df_air_speed_cleaned = df_air_speed_cleaned[df_air_speed_cleaned['air_speed'] >= 0]\n",
    "\n",
    "\n",
    "column = 'air_speed'\n",
    "\n",
    "\n",
    "Q1 = df_air_speed_cleaned[column].quantile(0.25)\n",
    "Q3 = df_air_speed_cleaned[column].quantile(0.75)\n",
    "IQR = Q3 - Q1\n",
    "\n",
    "\n",
    "lower_bound = 0\n",
    "upper_bound = Q3 + 1.5 * IQR\n",
    "\n",
    "\n",
    "print(\"=\"*50)\n",
    "print(\"АНАЛИЗ СКОРОСТИ ВОЗДУХА\")\n",
    "print(\"=\"*50)\n",
    "print(f\"Минимальное значение: {df_air_speed_cleaned[column].min():.2f} м/с\")\n",
    "print(f\"Максимальное значение: {df_air_speed_cleaned[column].max():.2f} м/с\")\n",
    "print(f\"Среднее значение: {df_air_speed_cleaned[column].mean():.2f} м/с\")\n",
    "print(f\"Q1 (25-й перцентиль): {Q1:.2f} м/с\")\n",
    "print(f\"Q3 (75-й перцентиль): {Q3:.2f} м/с\")\n",
    "print(f\"IQR: {IQR:.2f} м/с\")\n",
    "print(f\"Верхняя граница выбросов: {upper_bound:.2f} м/с\")\n",
    "\n",
    "\n",
    "outliers = df_air_speed_cleaned[(df_air_speed_cleaned[column] > upper_bound)]\n",
    "print(f\"\\nКоличество выбросов: {len(outliers)}\")\n",
    "print(f\"Процент выбросов: {len(outliers)/len(df_air_speed_cleaned)*100:.1f}%\")\n",
    "print(\"\\nПримеры выбросов:\")\n",
    "print(outliers[[column]].sort_values(by=column, ascending=False).head(10))\n",
    "\n",
    "# Визуализация распределения (до обработки)\n",
    "plt.figure(figsize=(12, 6))\n",
    "plt.subplot(1, 2, 1)\n",
    "sns.boxplot(x=df_air_speed_cleaned[column])\n",
    "plt.title('Боксплот до обработки')\n",
    "plt.xlabel('Скорость воздуха (м/с)')\n",
    "\n",
    "plt.subplot(1, 2, 2)\n",
    "sns.histplot(df_air_speed_cleaned[column], bins=50, kde=True)\n",
    "plt.title('Гистограмма распределения')\n",
    "plt.xlabel('Скорость воздуха (м/с)')\n",
    "plt.tight_layout()\n",
    "plt.show()\n",
    "\n",
    "#Создаем новый очищенный DataFrame\n",
    "df_air_speed_final = df_air_speed_cleaned[df_air_speed_cleaned[column] <= upper_bound]\n",
    "\n",
    "# Проверка\n",
    "print(\"\\n\" + \"=\"*50)\n",
    "print(\"РЕЗУЛЬТАТЫ ОЧИСТКИ\")\n",
    "print(\"=\"*50)\n",
    "print(f\"Исходный размер данных: {len(df_no_outliers)}\")\n",
    "print(f\"После удаления отрицательных значений: {len(df_air_speed_cleaned)}\")\n",
    "print(f\"После удаления выбросов: {len(df_air_speed_final)}\")\n",
    "print(f\"Всего удалено записей: {len(df_no_outliers) - len(df_air_speed_final)}\")\n",
    "print(f\"Новый диапазон: {df_air_speed_final[column].min():.2f} - {df_air_speed_final[column].max():.2f} м/с\")\n",
    "\n",
    "#Визуализация после обработки\n",
    "plt.figure(figsize=(12, 6))\n",
    "plt.subplot(1, 2, 1)\n",
    "sns.boxplot(x=df_air_speed_final[column])\n",
    "plt.title('Боксплот после обработки')\n",
    "plt.xlabel('Скорость воздуха (м/с)')\n",
    "\n",
    "\n",
    "plt.subplot(1, 2, 2)\n",
    "sns.histplot(df_air_speed_final[column], bins=30, kde=True)\n",
    "plt.title('Гистограмма после обработки')\n",
    "plt.xlabel('Скорость воздуха (м/с)')\n",
    "plt.tight_layout()\n",
    "plt.show()"
   ]
  },
  {
   "cell_type": "markdown",
   "metadata": {},
   "source": [
    "### Колонка \"год\""
   ]
  },
  {
   "cell_type": "code",
   "execution_count": 106,
   "metadata": {},
   "outputs": [
    {
     "name": "stdout",
     "output_type": "stream",
     "text": [
      "Анализ выбросов для года:\n",
      "==============================\n",
      "25-й перцентиль (Q1): 2010\n",
      "75-й перцентиль (Q3): 2012\n",
      "Межквартильный размах (IQR): 2\n",
      "Нижняя граница выбросов: 2007\n",
      "Верхняя граница выбросов: 2015\n"
     ]
    },
    {
     "data": {
      "image/png": "[encoded data removed]",
      "text/plain": [
       "<Figure size 1200x600 with 1 Axes>"
      ]
     },
     "metadata": {},
     "output_type": "display_data"
    },
    {
     "name": "stdout",
     "output_type": "stream",
     "text": [
      "\n",
      "Найдено выбросов: 0\n",
      "Примеры выбросов:\n",
      "Series([], Name: count, dtype: int64)\n",
      "\n",
      "Размеры данных:\n",
      "Исходный: 375 записей\n",
      "Очищенный: 375 записей\n",
      "Удалено: 0 записей (0.0%)\n"
     ]
    },
    {
     "data": {
      "image/png": "[encoded data removed]",
      "text/plain": [
       "<Figure size 1200x600 with 1 Axes>"
      ]
     },
     "metadata": {},
     "output_type": "display_data"
    }
   ],
   "source": [
    "\n",
    "\n",
    "column = 'year'\n",
    "\n",
    "\n",
    "Q1 = df_air_speed_final[column].quantile(0.25)\n",
    "Q3 = df_air_speed_final[column].quantile(0.75)\n",
    "IQR = Q3 - Q1\n",
    "\n",
    "\n",
    "lower_bound = Q1 - 1.5 * IQR\n",
    "upper_bound = Q3 + 1.5 * IQR\n",
    "\n",
    "\n",
    "print(f\"Анализ выбросов для года:\\n{'='*30}\")\n",
    "print(f\"25-й перцентиль (Q1): {Q1:.0f}\")\n",
    "print(f\"75-й перцентиль (Q3): {Q3:.0f}\")\n",
    "print(f\"Межквартильный размах (IQR): {IQR:.0f}\")\n",
    "print(f\"Нижняя граница выбросов: {lower_bound:.0f}\")\n",
    "print(f\"Верхняя граница выбросов: {upper_bound:.0f}\")\n",
    "\n",
    "#  Визуализация - гистограмма распределения\n",
    "plt.figure(figsize=(12, 6))\n",
    "sns.histplot(data=df_air_speed_final, x=column, bins=30, kde=True)\n",
    "plt.axvline(lower_bound, color='r', linestyle='--', label='Нижняя граница выбросов')\n",
    "plt.axvline(upper_bound, color='r', linestyle='--', label='Верхняя граница выбросов')\n",
    "plt.title('Распределение годов наблюдений')\n",
    "plt.xlabel('Год')\n",
    "plt.ylabel('Количество наблюдений')\n",
    "plt.legend()\n",
    "plt.grid(True)\n",
    "plt.show()\n",
    "\n",
    "#  Выявление выбросов\n",
    "outliers = df_air_speed_final[(df_air_speed_final[column] < lower_bound) | \n",
    "                             (df_air_speed_final[column] > upper_bound)]\n",
    "\n",
    "print(f\"\\nНайдено выбросов: {len(outliers)}\")\n",
    "print(\"Примеры выбросов:\")\n",
    "print(outliers[column].value_counts().sort_index())\n",
    "\n",
    "#  Фильтрация данных (без выбросов)\n",
    "df_clean = df_air_speed_final[(df_air_speed_final[column] >= lower_bound) & \n",
    "                             (df_air_speed_final[column] <= upper_bound)].copy()\n",
    "\n",
    "#  Сравнение размеров\n",
    "print(f\"\\nРазмеры данных:\")\n",
    "print(f\"Исходный: {len(df_air_speed_final)} записей\")\n",
    "print(f\"Очищенный: {len(df_clean)} записей\")\n",
    "print(f\"Удалено: {len(df_air_speed_final) - len(df_clean)} записей ({(len(df_air_speed_final) - len(df_clean))/len(df_air_speed_final)*100:.1f}%)\")\n",
    "\n",
    "#  Визуализация очищенных данных\n",
    "plt.figure(figsize=(12, 6))\n",
    "sns.histplot(data=df_clean, x=column, bins=30, kde=True)\n",
    "plt.title('Распределение годов (после удаления выбросов)')\n",
    "plt.xlabel('Год')\n",
    "plt.ylabel('Количество наблюдений')\n",
    "plt.grid(True)\n",
    "plt.show()"
   ]
  },
  {
   "cell_type": "markdown",
   "metadata": {},
   "source": [
    "### Колонка \"вес\""
   ]
  },
  {
   "cell_type": "code",
   "execution_count": 107,
   "metadata": {},
   "outputs": [
    {
     "name": "stdout",
     "output_type": "stream",
     "text": [
      "Анализ выбросов для столбца 'weight':\n",
      "==================================================\n",
      "Кол-во непустых значений: 144\n",
      "Q1 (25-й перцентиль): 58.00\n",
      "Q3 (75-й перцентиль): 75.00\n",
      "IQR (межквартильный размах): 17.00\n",
      "Границы нормальных значений: [32.50, 100.50]\n"
     ]
    },
    {
     "data": {
      "image/png": "[encoded data removed]",
      "text/plain": [
       "<Figure size 1200x600 with 1 Axes>"
      ]
     },
     "metadata": {},
     "output_type": "display_data"
    },
    {
     "name": "stdout",
     "output_type": "stream",
     "text": [
      "\n",
      "Обнаружено выбросов: 1 (0.7% от непустых значений)\n",
      "Статистика по выбросам:\n",
      "count      1.0\n",
      "mean     110.0\n",
      "std       <NA>\n",
      "min      110.0\n",
      "25%      110.0\n",
      "50%      110.0\n",
      "75%      110.0\n",
      "max      110.0\n",
      "Name: weight, dtype: Float64\n",
      "\n",
      "Итоговая статистика:\n",
      "Исходный размер данных: 375 строк\n",
      "После фильтрации выбросов: 374 строк\n",
      "Удалено строк с выбросами: 1\n",
      "Пропусков в исходных данных: 231 (остались без изменений)\n"
     ]
    }
   ],
   "source": [
    "# Анализ выбросов в столбце 'weight' (без удаления/изменения пропусков)\n",
    "column = 'weight'\n",
    "\n",
    "#  Выделяем непустые значения для анализа\n",
    "non_null_data = df_clean[column].dropna()\n",
    "\n",
    "\n",
    "Q1 = non_null_data.quantile(0.25)\n",
    "Q3 = non_null_data.quantile(0.75)\n",
    "IQR = Q3 - Q1\n",
    "\n",
    "lower_bound = Q1 - 1.5 * IQR\n",
    "upper_bound = Q3 + 1.5 * IQR\n",
    "\n",
    "\n",
    "print(f\"Анализ выбросов для столбца '{column}':\\n{'='*50}\")\n",
    "print(f\"Кол-во непустых значений: {len(non_null_data)}\")\n",
    "print(f\"Q1 (25-й перцентиль): {Q1:.2f}\")\n",
    "print(f\"Q3 (75-й перцентиль): {Q3:.2f}\")\n",
    "print(f\"IQR (межквартильный размах): {IQR:.2f}\")\n",
    "print(f\"Границы нормальных значений: [{lower_bound:.2f}, {upper_bound:.2f}]\")\n",
    "\n",
    "\n",
    "plt.figure(figsize=(12, 6))\n",
    "sns.histplot(non_null_data, bins=30, kde=True)\n",
    "plt.axvline(lower_bound, color='red', linestyle='--', label='Нижняя граница')\n",
    "plt.axvline(upper_bound, color='red', linestyle='--', label='Верхняя граница')\n",
    "plt.title(f'Распределение значений в столбце \"{column}\"\\n(пропуски не показаны)')\n",
    "plt.xlabel(column)\n",
    "plt.ylabel('Частота')\n",
    "plt.legend()\n",
    "plt.grid(True)\n",
    "plt.show()\n",
    "\n",
    "\n",
    "outliers = non_null_data[(non_null_data < lower_bound) | (non_null_data > upper_bound)]\n",
    "print(f\"\\nОбнаружено выбросов: {len(outliers)} ({len(outliers)/len(non_null_data)*100:.1f}% от непустых значений)\")\n",
    "print(\"Статистика по выбросам:\")\n",
    "print(outliers.describe())\n",
    "\n",
    "# Фильтр для выборки без выбросов (опционально, если нужно создать отдельный датафрейм)\n",
    "normal_values_mask = (df_clean[column] >= lower_bound) & (df_clean[column] <= upper_bound)\n",
    "df_normal_weight = df_clean[normal_values_mask | df_clean[column].isna()]  # включаем все пропуски\n",
    "\n",
    "print(f\"\\nИтоговая статистика:\")\n",
    "print(f\"Исходный размер данных: {len(df_clean)} строк\")\n",
    "print(f\"После фильтрации выбросов: {len(df_normal_weight)} строк\")\n",
    "print(f\"Удалено строк с выбросами: {len(df_clean) - len(df_normal_weight)}\")\n",
    "print(f\"Пропусков в исходных данных: {df_clean[column].isna().sum()} (остались без изменений)\")"
   ]
  },
  {
   "cell_type": "markdown",
   "metadata": {},
   "source": [
    "### Поиск и удаление точных дубликатов"
   ]
  },
  {
   "cell_type": "code",
   "execution_count": 108,
   "metadata": {},
   "outputs": [
    {
     "name": "stdout",
     "output_type": "stream",
     "text": [
      "Найденные дубликаты:\n",
      "     year season                climate        city country cooling_method  \\\n",
      "482  2012   Зима  Жаркий полузасушливый  Хайдарабад   Индия      Смешанный   \n",
      "483  2012   Зима  Жаркий полузасушливый  Хайдарабад   Индия      Смешанный   \n",
      "\n",
      "    mixed_cooling_mode heating_method   age   gender  ...  air_speed  height  \\\n",
      "482  Кондиционирование            NaN  <NA>  Женский  ...       0.02    <NA>   \n",
      "483  Кондиционирование            NaN  <NA>  Женский  ...       0.02    <NA>   \n",
      "\n",
      "    weight  curtains fan_mode  window_status  door_status  heating_mode  \\\n",
      "482     76      True     True          False        False          True   \n",
      "483     76      True     True          False        False          True   \n",
      "\n",
      "     average_monthly_outdoor_temperature  number_of_complaints  \n",
      "482                                 21.6                     0  \n",
      "483                                 21.6                     0  \n",
      "\n",
      "[2 rows x 30 columns]\n"
     ]
    }
   ],
   "source": [
    "# Поиск полных дубликатов\n",
    "duplicates = df_clean[df_clean.duplicated()]\n",
    "print(\"Найденные дубликаты:\")\n",
    "print(duplicates)\n",
    "\n",
    "# Удаление дубликатов\n",
    "df_clean = df_clean.drop_duplicates()"
   ]
  },
  {
   "cell_type": "markdown",
   "metadata": {},
   "source": []
  },
  {
   "cell_type": "code",
   "execution_count": 109,
   "metadata": {},
   "outputs": [
    {
     "data": {
      "text/plain": [
       "['Без изменений', 'Теплее', 'Холодн', 'Холоднее', 'Тепле']\n",
       "Categories (5, object): ['Без изменений', 'Тепле', 'Теплее', 'Холодн', 'Холоднее']"
      ]
     },
     "execution_count": 109,
     "metadata": {},
     "output_type": "execute_result"
    }
   ],
   "source": [
    "df_clean[\"preferred_temperature_change\"].unique()"
   ]
  },
  {
   "cell_type": "code",
   "execution_count": 110,
   "metadata": {},
   "outputs": [],
   "source": [
    "df_clean['preferred_temperature_change'] = df_clean['preferred_temperature_change'].replace(\n",
    "    {\"Тепле\": 'Теплее',\n",
    "      'Холодн': 'Холоднее'}\n",
    ")\n"
   ]
  },
  {
   "cell_type": "markdown",
   "metadata": {},
   "source": [
    "Проверка, что все прошло успешно"
   ]
  },
  {
   "cell_type": "code",
   "execution_count": 111,
   "metadata": {},
   "outputs": [
    {
     "data": {
      "text/plain": [
       "['Без изменений', 'Теплее', 'Холоднее']\n",
       "Categories (3, object): ['Без изменений', 'Теплее', 'Холоднее']"
      ]
     },
     "execution_count": 111,
     "metadata": {},
     "output_type": "execute_result"
    }
   ],
   "source": [
    "df_clean[\"preferred_temperature_change\"].unique()"
   ]
  },
  {
   "cell_type": "markdown",
   "metadata": {},
   "source": [
    "## Проверить данные на пропуски и заполнить их при необходимости. Обосновать решение."
   ]
  },
  {
   "cell_type": "markdown",
   "metadata": {},
   "source": [
    "Проверяем наш DF на попуски"
   ]
  },
  {
   "cell_type": "code",
   "execution_count": 113,
   "metadata": {},
   "outputs": [
    {
     "name": "stdout",
     "output_type": "stream",
     "text": [
      "\n",
      "Пропущенные значения:\n",
      "year                                     0\n",
      "season                                   0\n",
      "climate                                  0\n",
      "city                                     0\n",
      "country                                  0\n",
      "cooling_method                           0\n",
      "mixed_cooling_mode                      93\n",
      "heating_method                         168\n",
      "age                                     49\n",
      "gender                                  37\n",
      "temperature_feeling                      0\n",
      "temperature_feeling_bool                 0\n",
      "preferred_temperature_change             0\n",
      "air_movement_feeling_bool                0\n",
      "preferred_air_movement_change            0\n",
      "comfort_rating                         243\n",
      "clothing_insulation                      0\n",
      "indoor_air_temperature                   0\n",
      "outdoor_air_temperature                336\n",
      "relative_humidity                        0\n",
      "air_speed                                0\n",
      "height                                 280\n",
      "weight                                 231\n",
      "curtains                                 0\n",
      "fan_mode                                 0\n",
      "window_status                            0\n",
      "door_status                              0\n",
      "heating_mode                             0\n",
      "average_monthly_outdoor_temperature      0\n",
      "number_of_complaints                     0\n",
      "dtype: int64\n"
     ]
    }
   ],
   "source": [
    "print(\"\\nПропущенные значения:\")\n",
    "print(df_clean.isnull().sum())"
   ]
  },
  {
   "cell_type": "markdown",
   "metadata": {},
   "source": [
    "Добавляем новые категории"
   ]
  },
  {
   "cell_type": "code",
   "execution_count": 114,
   "metadata": {},
   "outputs": [],
   "source": [
    "# Добавляем новую категорию\n",
    "df_clean[\"mixed_cooling_mode\"] = df_clean[\"mixed_cooling_mode\"].cat.add_categories(\"not applicable\")\n",
    "\n",
    "# Теперь можно заполнить NA\n",
    "df_clean[\"mixed_cooling_mode\"] = df_clean[\"mixed_cooling_mode\"].fillna(\"not applicable\")"
   ]
  },
  {
   "cell_type": "code",
   "execution_count": 115,
   "metadata": {},
   "outputs": [],
   "source": [
    "\n",
    "if \"No mechanical heating\" not in df_clean[\"heating_method\"].cat.categories:\n",
    "    df_clean[\"heating_method\"] = df_clean[\"heating_method\"].cat.add_categories(\"No mechanical heating\")\n",
    "\n",
    "df_clean[\"heating_method\"] = df_clean[\"heating_method\"].fillna(\"No mechanical heating\")\n",
    "\n"
   ]
  },
  {
   "cell_type": "code",
   "execution_count": 116,
   "metadata": {},
   "outputs": [],
   "source": [
    "# Gender \n",
    "if \"Unknown\" not in df_clean[\"gender\"].cat.categories:\n",
    "    df_clean[\"gender\"] = df_clean[\"gender\"].cat.add_categories(\"Unknown\")\n",
    "df_clean[\"gender\"].fillna(\"Unknown\", inplace=True)"
   ]
  },
  {
   "cell_type": "code",
   "execution_count": 117,
   "metadata": {},
   "outputs": [
    {
     "name": "stdout",
     "output_type": "stream",
     "text": [
      "\n",
      "Пропущенные значения:\n",
      "year                                     0\n",
      "season                                   0\n",
      "climate                                  0\n",
      "city                                     0\n",
      "country                                  0\n",
      "cooling_method                           0\n",
      "mixed_cooling_mode                       0\n",
      "heating_method                           0\n",
      "age                                     49\n",
      "gender                                   0\n",
      "temperature_feeling                      0\n",
      "temperature_feeling_bool                 0\n",
      "preferred_temperature_change             0\n",
      "air_movement_feeling_bool                0\n",
      "preferred_air_movement_change            0\n",
      "comfort_rating                         243\n",
      "clothing_insulation                      0\n",
      "indoor_air_temperature                   0\n",
      "outdoor_air_temperature                336\n",
      "relative_humidity                        0\n",
      "air_speed                                0\n",
      "height                                 280\n",
      "weight                                 231\n",
      "curtains                                 0\n",
      "fan_mode                                 0\n",
      "window_status                            0\n",
      "door_status                              0\n",
      "heating_mode                             0\n",
      "average_monthly_outdoor_temperature      0\n",
      "number_of_complaints                     0\n",
      "dtype: int64\n"
     ]
    }
   ],
   "source": [
    "print(\"\\nПропущенные значения:\")\n",
    "print(df_clean.isnull().sum())"
   ]
  },
  {
   "cell_type": "markdown",
   "metadata": {},
   "source": []
  },
  {
   "cell_type": "markdown",
   "metadata": {},
   "source": [
    "### Колонка \"возраст\""
   ]
  },
  {
   "cell_type": "markdown",
   "metadata": {},
   "source": [
    "Рассмотрим столбец \"возраст\", чтобы определеить, чем заполнить пропуски"
   ]
  },
  {
   "cell_type": "markdown",
   "metadata": {},
   "source": [
    "Построим столбчатую диаграму для рассмотрения данных на предмет неравномерного распределения"
   ]
  },
  {
   "cell_type": "code",
   "execution_count": 118,
   "metadata": {},
   "outputs": [
    {
     "name": "stdout",
     "output_type": "stream",
     "text": [
      "count        324.0\n",
      "mean     40.768519\n",
      "std      10.943089\n",
      "min           22.0\n",
      "25%           35.0\n",
      "50%           43.0\n",
      "75%           45.0\n",
      "max           65.0\n",
      "Name: age, dtype: Float64\n",
      "Пропуски: 49\n"
     ]
    },
    {
     "data": {
      "image/png": "[encoded data removed]",
      "text/plain": [
       "<Figure size 640x480 with 1 Axes>"
      ]
     },
     "metadata": {},
     "output_type": "display_data"
    }
   ],
   "source": [
    "print(df_clean['age'].describe())  # Основные статистики\n",
    "print(\"Пропуски:\", df_clean['age'].isna().sum())  \n",
    "df_clean['age'].plot.hist(bins=20, edgecolor='black')  # Гистограмма\n",
    "plt.show()"
   ]
  },
  {
   "cell_type": "markdown",
   "metadata": {},
   "source": [
    "Посмотрим на выбросы с помощью графика Boxplot"
   ]
  },
  {
   "cell_type": "code",
   "execution_count": 119,
   "metadata": {},
   "outputs": [
    {
     "data": {
      "image/png": "[encoded data removed]",
      "text/plain": [
       "<Figure size 640x480 with 1 Axes>"
      ]
     },
     "metadata": {},
     "output_type": "display_data"
    }
   ],
   "source": [
    "df['age'].plot.box()\n",
    "plt.title('Boxplot')\n",
    "plt.ylabel('Значения')\n",
    "plt.grid(axis='y', linestyle='--')\n",
    "plt.show()"
   ]
  },
  {
   "cell_type": "markdown",
   "metadata": {},
   "source": [
    "По графику видно распределение значений в диапазоне 20-60, где большинство данных сосредоточено в интервале 30-45. Для заполнения пропусков (NA/NaN) в таком случае лучше всего подойдет заполнение медианой\n",
    "\n",
    "Выбросов так таковых нет, поэтому распределение нормальное\n",
    "\n",
    "Почему: Распределение не выглядит строго нормальным, медиана устойчива к выбросам."
   ]
  },
  {
   "cell_type": "code",
   "execution_count": 120,
   "metadata": {},
   "outputs": [],
   "source": [
    "df_clean['age'].fillna(df_clean['age'].median(), inplace=True)"
   ]
  },
  {
   "cell_type": "markdown",
   "metadata": {},
   "source": [
    "Проверка,что все заполнилось"
   ]
  },
  {
   "cell_type": "code",
   "execution_count": 121,
   "metadata": {},
   "outputs": [
    {
     "data": {
      "text/plain": [
       "<IntegerArray>\n",
       "[42, 27, 32, 43, 26, 31, 38, 22, 36, 34, 28, 29, 39, 35, 46, 40, 50, 25, 51,\n",
       " 58, 23, 55, 45, 65]\n",
       "Length: 24, dtype: Int64"
      ]
     },
     "execution_count": 121,
     "metadata": {},
     "output_type": "execute_result"
    }
   ],
   "source": [
    "df_clean[\"age\"].unique()"
   ]
  },
  {
   "cell_type": "markdown",
   "metadata": {},
   "source": [
    "Проверка, в каких колонках еще не заполнены пропуски"
   ]
  },
  {
   "cell_type": "code",
   "execution_count": 122,
   "metadata": {},
   "outputs": [
    {
     "name": "stdout",
     "output_type": "stream",
     "text": [
      "\n",
      "Пропущенные значения:\n",
      "year                                     0\n",
      "season                                   0\n",
      "climate                                  0\n",
      "city                                     0\n",
      "country                                  0\n",
      "cooling_method                           0\n",
      "mixed_cooling_mode                       0\n",
      "heating_method                           0\n",
      "age                                      0\n",
      "gender                                   0\n",
      "temperature_feeling                      0\n",
      "temperature_feeling_bool                 0\n",
      "preferred_temperature_change             0\n",
      "air_movement_feeling_bool                0\n",
      "preferred_air_movement_change            0\n",
      "comfort_rating                         243\n",
      "clothing_insulation                      0\n",
      "indoor_air_temperature                   0\n",
      "outdoor_air_temperature                336\n",
      "relative_humidity                        0\n",
      "air_speed                                0\n",
      "height                                 280\n",
      "weight                                 231\n",
      "curtains                                 0\n",
      "fan_mode                                 0\n",
      "window_status                            0\n",
      "door_status                              0\n",
      "heating_mode                             0\n",
      "average_monthly_outdoor_temperature      0\n",
      "number_of_complaints                     0\n",
      "dtype: int64\n"
     ]
    }
   ],
   "source": [
    "print(\"\\nПропущенные значения:\")\n",
    "print(df_clean.isnull().sum())"
   ]
  },
  {
   "cell_type": "code",
   "execution_count": 123,
   "metadata": {},
   "outputs": [
    {
     "name": "stdout",
     "output_type": "stream",
     "text": [
      "Найденные дубликаты:\n",
      "Empty DataFrame\n",
      "Columns: [year, season, climate, city, country, cooling_method, mixed_cooling_mode, heating_method, age, gender, temperature_feeling, temperature_feeling_bool, preferred_temperature_change, air_movement_feeling_bool, preferred_air_movement_change, comfort_rating, clothing_insulation, indoor_air_temperature, outdoor_air_temperature, relative_humidity, air_speed, height, weight, curtains, fan_mode, window_status, door_status, heating_mode, average_monthly_outdoor_temperature, number_of_complaints]\n",
      "Index: []\n",
      "\n",
      "[0 rows x 30 columns]\n"
     ]
    }
   ],
   "source": [
    "# Поиск полных дубликатов\n",
    "duplicates = df_clean[df_clean.duplicated()]\n",
    "print(\"Найденные дубликаты:\")\n",
    "print(duplicates)\n",
    "\n",
    "# Удаление дубликатов\n",
    "df_clean = df_clean.drop_duplicates()"
   ]
  },
  {
   "cell_type": "markdown",
   "metadata": {},
   "source": [
    "Какой дф был\n",
    "\n",
    "Какой дф стал\n",
    "\n",
    "Процентноеи соотношение удаленых строк"
   ]
  },
  {
   "cell_type": "code",
   "execution_count": 124,
   "metadata": {},
   "outputs": [
    {
     "name": "stdout",
     "output_type": "stream",
     "text": [
      "484\n",
      "373\n",
      "0.22933884297520662\n"
     ]
    }
   ],
   "source": [
    "print(len(df))\n",
    "print(len(df_clean))\n",
    "print((len(df)-len(df_clean)) / len(df))"
   ]
  }
 ],
 "metadata": {
  "kernelspec": {
   "display_name": "da_env",
   "language": "python",
   "name": "python3"
  },
  "language_info": {
   "codemirror_mode": {
    "name": "ipython",
    "version": 3
   },
   "file_extension": ".py",
   "mimetype": "text/x-python",
   "name": "python",
   "nbconvert_exporter": "python",
   "pygments_lexer": "ipython3",
   "version": "3.10.16"
  }
 },
 "nbformat": 4,
 "nbformat_minor": 2
}
