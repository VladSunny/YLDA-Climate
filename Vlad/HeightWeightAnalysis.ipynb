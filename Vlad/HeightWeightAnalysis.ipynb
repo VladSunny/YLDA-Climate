{
 "cells": [
  {
   "cell_type": "markdown",
   "id": "8d823b60",
   "metadata": {},
   "source": [
    "Обоснование удаления колонок по весу и росту"
   ]
  },
  {
   "cell_type": "code",
   "execution_count": 53,
   "id": "cb54665c",
   "metadata": {},
   "outputs": [],
   "source": [
    "import pandas as pd\n",
    "from dython.nominal import associations\n",
    "import matplotlib.pyplot as plt\n",
    "import seaborn as sns"
   ]
  },
  {
   "cell_type": "code",
   "execution_count": 54,
   "id": "3a48943b",
   "metadata": {},
   "outputs": [
    {
     "data": {
      "text/html": [
       "<div>\n",
       "<style scoped>\n",
       "    .dataframe tbody tr th:only-of-type {\n",
       "        vertical-align: middle;\n",
       "    }\n",
       "\n",
       "    .dataframe tbody tr th {\n",
       "        vertical-align: top;\n",
       "    }\n",
       "\n",
       "    .dataframe thead th {\n",
       "        text-align: right;\n",
       "    }\n",
       "</style>\n",
       "<table border=\"1\" class=\"dataframe\">\n",
       "  <thead>\n",
       "    <tr style=\"text-align: right;\">\n",
       "      <th></th>\n",
       "      <th>year</th>\n",
       "      <th>season</th>\n",
       "      <th>climate</th>\n",
       "      <th>city</th>\n",
       "      <th>country</th>\n",
       "      <th>cooling_method</th>\n",
       "      <th>mixed_cooling_mode</th>\n",
       "      <th>heating_method</th>\n",
       "      <th>age</th>\n",
       "      <th>gender</th>\n",
       "      <th>...</th>\n",
       "      <th>air_speed</th>\n",
       "      <th>height</th>\n",
       "      <th>weight</th>\n",
       "      <th>curtains</th>\n",
       "      <th>fan_mode</th>\n",
       "      <th>window_status</th>\n",
       "      <th>door_status</th>\n",
       "      <th>heating_mode</th>\n",
       "      <th>average_monthly_outdoor_temperature</th>\n",
       "      <th>number_of_complaints</th>\n",
       "    </tr>\n",
       "  </thead>\n",
       "  <tbody>\n",
       "    <tr>\n",
       "      <th>0</th>\n",
       "      <td>2011</td>\n",
       "      <td>Лето</td>\n",
       "      <td>Cубтропический океанический</td>\n",
       "      <td>Техас</td>\n",
       "      <td>США</td>\n",
       "      <td>Кондиционирование</td>\n",
       "      <td>not applicable</td>\n",
       "      <td>No mechanical heating</td>\n",
       "      <td>42</td>\n",
       "      <td>Unknown</td>\n",
       "      <td>...</td>\n",
       "      <td>0.08</td>\n",
       "      <td>NaN</td>\n",
       "      <td>NaN</td>\n",
       "      <td>False</td>\n",
       "      <td>False</td>\n",
       "      <td>True</td>\n",
       "      <td>True</td>\n",
       "      <td>True</td>\n",
       "      <td>32.8</td>\n",
       "      <td>0</td>\n",
       "    </tr>\n",
       "    <tr>\n",
       "      <th>1</th>\n",
       "      <td>2011</td>\n",
       "      <td>Лето</td>\n",
       "      <td>Cубтропический океанический</td>\n",
       "      <td>Техас</td>\n",
       "      <td>США</td>\n",
       "      <td>Кондиционирование</td>\n",
       "      <td>not applicable</td>\n",
       "      <td>No mechanical heating</td>\n",
       "      <td>27</td>\n",
       "      <td>Unknown</td>\n",
       "      <td>...</td>\n",
       "      <td>0.21</td>\n",
       "      <td>NaN</td>\n",
       "      <td>NaN</td>\n",
       "      <td>True</td>\n",
       "      <td>True</td>\n",
       "      <td>True</td>\n",
       "      <td>True</td>\n",
       "      <td>True</td>\n",
       "      <td>28.9</td>\n",
       "      <td>0</td>\n",
       "    </tr>\n",
       "    <tr>\n",
       "      <th>2</th>\n",
       "      <td>2011</td>\n",
       "      <td>Лето</td>\n",
       "      <td>Cубтропический океанический</td>\n",
       "      <td>Техас</td>\n",
       "      <td>США</td>\n",
       "      <td>Кондиционирование</td>\n",
       "      <td>not applicable</td>\n",
       "      <td>No mechanical heating</td>\n",
       "      <td>32</td>\n",
       "      <td>Unknown</td>\n",
       "      <td>...</td>\n",
       "      <td>0.10</td>\n",
       "      <td>NaN</td>\n",
       "      <td>NaN</td>\n",
       "      <td>True</td>\n",
       "      <td>True</td>\n",
       "      <td>True</td>\n",
       "      <td>True</td>\n",
       "      <td>True</td>\n",
       "      <td>32.8</td>\n",
       "      <td>0</td>\n",
       "    </tr>\n",
       "    <tr>\n",
       "      <th>3</th>\n",
       "      <td>2011</td>\n",
       "      <td>Лето</td>\n",
       "      <td>Cубтропический океанический</td>\n",
       "      <td>Техас</td>\n",
       "      <td>США</td>\n",
       "      <td>Кондиционирование</td>\n",
       "      <td>not applicable</td>\n",
       "      <td>No mechanical heating</td>\n",
       "      <td>43</td>\n",
       "      <td>Unknown</td>\n",
       "      <td>...</td>\n",
       "      <td>0.15</td>\n",
       "      <td>NaN</td>\n",
       "      <td>NaN</td>\n",
       "      <td>True</td>\n",
       "      <td>True</td>\n",
       "      <td>True</td>\n",
       "      <td>True</td>\n",
       "      <td>True</td>\n",
       "      <td>32.8</td>\n",
       "      <td>0</td>\n",
       "    </tr>\n",
       "    <tr>\n",
       "      <th>4</th>\n",
       "      <td>2011</td>\n",
       "      <td>Лето</td>\n",
       "      <td>Cубтропический океанический</td>\n",
       "      <td>Техас</td>\n",
       "      <td>США</td>\n",
       "      <td>Кондиционирование</td>\n",
       "      <td>not applicable</td>\n",
       "      <td>No mechanical heating</td>\n",
       "      <td>32</td>\n",
       "      <td>Unknown</td>\n",
       "      <td>...</td>\n",
       "      <td>0.14</td>\n",
       "      <td>NaN</td>\n",
       "      <td>NaN</td>\n",
       "      <td>False</td>\n",
       "      <td>False</td>\n",
       "      <td>True</td>\n",
       "      <td>True</td>\n",
       "      <td>True</td>\n",
       "      <td>32.8</td>\n",
       "      <td>0</td>\n",
       "    </tr>\n",
       "  </tbody>\n",
       "</table>\n",
       "<p>5 rows × 30 columns</p>\n",
       "</div>"
      ],
      "text/plain": [
       "   year season                      climate   city country     cooling_method  \\\n",
       "0  2011   Лето  Cубтропический океанический  Техас     США  Кондиционирование   \n",
       "1  2011   Лето  Cубтропический океанический  Техас     США  Кондиционирование   \n",
       "2  2011   Лето  Cубтропический океанический  Техас     США  Кондиционирование   \n",
       "3  2011   Лето  Cубтропический океанический  Техас     США  Кондиционирование   \n",
       "4  2011   Лето  Cубтропический океанический  Техас     США  Кондиционирование   \n",
       "\n",
       "  mixed_cooling_mode         heating_method  age   gender  ...  air_speed  \\\n",
       "0     not applicable  No mechanical heating   42  Unknown  ...       0.08   \n",
       "1     not applicable  No mechanical heating   27  Unknown  ...       0.21   \n",
       "2     not applicable  No mechanical heating   32  Unknown  ...       0.10   \n",
       "3     not applicable  No mechanical heating   43  Unknown  ...       0.15   \n",
       "4     not applicable  No mechanical heating   32  Unknown  ...       0.14   \n",
       "\n",
       "   height weight  curtains fan_mode  window_status  door_status  heating_mode  \\\n",
       "0     NaN    NaN     False    False           True         True          True   \n",
       "1     NaN    NaN      True     True           True         True          True   \n",
       "2     NaN    NaN      True     True           True         True          True   \n",
       "3     NaN    NaN      True     True           True         True          True   \n",
       "4     NaN    NaN     False    False           True         True          True   \n",
       "\n",
       "   average_monthly_outdoor_temperature  number_of_complaints  \n",
       "0                                 32.8                     0  \n",
       "1                                 28.9                     0  \n",
       "2                                 32.8                     0  \n",
       "3                                 32.8                     0  \n",
       "4                                 32.8                     0  \n",
       "\n",
       "[5 rows x 30 columns]"
      ]
     },
     "execution_count": 54,
     "metadata": {},
     "output_type": "execute_result"
    }
   ],
   "source": [
    "df = pd.read_csv(\"data/cleared_data.csv\")\n",
    "\n",
    "df.head()"
   ]
  },
  {
   "cell_type": "code",
   "execution_count": 55,
   "id": "0f9d9a46",
   "metadata": {},
   "outputs": [
    {
     "data": {
      "text/plain": [
       "(129, 30)"
      ]
     },
     "execution_count": 55,
     "metadata": {},
     "output_type": "execute_result"
    }
   ],
   "source": [
    "df.dropna(subset=['comfort_rating']).shape"
   ]
  },
  {
   "cell_type": "code",
   "execution_count": 56,
   "id": "22820e10",
   "metadata": {},
   "outputs": [
    {
     "data": {
      "text/plain": [
       "(372, 30)"
      ]
     },
     "execution_count": 56,
     "metadata": {},
     "output_type": "execute_result"
    }
   ],
   "source": [
    "df.shape"
   ]
  },
  {
   "cell_type": "code",
   "execution_count": 57,
   "id": "0c4a7cf9",
   "metadata": {},
   "outputs": [
    {
     "data": {
      "text/plain": [
       "((92, 2), (92, 2), (92, 3))"
      ]
     },
     "execution_count": 57,
     "metadata": {},
     "output_type": "execute_result"
    }
   ],
   "source": [
    "df_h = df[['height', 'comfort_rating']].dropna()\n",
    "df_w = df[['weight', 'comfort_rating']].dropna()\n",
    "df_hw = df[['height', 'weight', 'comfort_rating']].dropna()\n",
    "\n",
    "df_h.shape, df_w.shape, df_hw.shape"
   ]
  },
  {
   "cell_type": "code",
   "execution_count": 58,
   "id": "f8530d9a",
   "metadata": {},
   "outputs": [
    {
     "data": {
      "text/plain": [
       "0"
      ]
     },
     "execution_count": 58,
     "metadata": {},
     "output_type": "execute_result"
    }
   ],
   "source": [
    "sum(df_h['height'] != df_hw['height'])"
   ]
  },
  {
   "cell_type": "code",
   "execution_count": 59,
   "id": "8b796e09",
   "metadata": {},
   "outputs": [
    {
     "data": {
      "text/plain": [
       "0"
      ]
     },
     "execution_count": 59,
     "metadata": {},
     "output_type": "execute_result"
    }
   ],
   "source": [
    "sum(df_w['weight'] != df_hw['weight'])"
   ]
  },
  {
   "cell_type": "markdown",
   "id": "5a70d659",
   "metadata": {},
   "source": [
    "=> пропуски в росте и весе встречаются одновременно"
   ]
  },
  {
   "cell_type": "markdown",
   "id": "2f460719",
   "metadata": {},
   "source": [
    "Помимо зависимости комфрота от роста и веса в отдельности, стоит проверить зависимость комфорта от [ИМТ (вес / рост^2)](https://gkb81.ru/sovety/kalkulyator-imt/)"
   ]
  },
  {
   "cell_type": "code",
   "execution_count": 60,
   "id": "ba360bd0",
   "metadata": {},
   "outputs": [],
   "source": [
    "df = df.dropna(subset=['height', 'weight', 'comfort_rating'])"
   ]
  },
  {
   "cell_type": "code",
   "execution_count": 61,
   "id": "196dd26c",
   "metadata": {},
   "outputs": [
    {
     "data": {
      "text/plain": [
       "(92, 30)"
      ]
     },
     "execution_count": 61,
     "metadata": {},
     "output_type": "execute_result"
    }
   ],
   "source": [
    "df.shape"
   ]
  },
  {
   "cell_type": "code",
   "execution_count": 62,
   "id": "739127d7",
   "metadata": {},
   "outputs": [
    {
     "data": {
      "text/html": [
       "<div>\n",
       "<style scoped>\n",
       "    .dataframe tbody tr th:only-of-type {\n",
       "        vertical-align: middle;\n",
       "    }\n",
       "\n",
       "    .dataframe tbody tr th {\n",
       "        vertical-align: top;\n",
       "    }\n",
       "\n",
       "    .dataframe thead th {\n",
       "        text-align: right;\n",
       "    }\n",
       "</style>\n",
       "<table border=\"1\" class=\"dataframe\">\n",
       "  <thead>\n",
       "    <tr style=\"text-align: right;\">\n",
       "      <th></th>\n",
       "      <th>height</th>\n",
       "      <th>weight</th>\n",
       "      <th>IMT</th>\n",
       "    </tr>\n",
       "  </thead>\n",
       "  <tbody>\n",
       "    <tr>\n",
       "      <th>231</th>\n",
       "      <td>168.0</td>\n",
       "      <td>65.0</td>\n",
       "      <td>23.030045</td>\n",
       "    </tr>\n",
       "    <tr>\n",
       "      <th>232</th>\n",
       "      <td>163.0</td>\n",
       "      <td>53.0</td>\n",
       "      <td>19.948060</td>\n",
       "    </tr>\n",
       "    <tr>\n",
       "      <th>233</th>\n",
       "      <td>168.0</td>\n",
       "      <td>75.0</td>\n",
       "      <td>26.573129</td>\n",
       "    </tr>\n",
       "    <tr>\n",
       "      <th>235</th>\n",
       "      <td>173.0</td>\n",
       "      <td>70.0</td>\n",
       "      <td>23.388687</td>\n",
       "    </tr>\n",
       "    <tr>\n",
       "      <th>236</th>\n",
       "      <td>163.0</td>\n",
       "      <td>57.0</td>\n",
       "      <td>21.453574</td>\n",
       "    </tr>\n",
       "  </tbody>\n",
       "</table>\n",
       "</div>"
      ],
      "text/plain": [
       "     height  weight        IMT\n",
       "231   168.0    65.0  23.030045\n",
       "232   163.0    53.0  19.948060\n",
       "233   168.0    75.0  26.573129\n",
       "235   173.0    70.0  23.388687\n",
       "236   163.0    57.0  21.453574"
      ]
     },
     "execution_count": 62,
     "metadata": {},
     "output_type": "execute_result"
    }
   ],
   "source": [
    "df['IMT'] = df['weight'] / df['height'] ** 2 * 1e4\n",
    "\n",
    "df[['height', 'weight', 'IMT']].head()"
   ]
  },
  {
   "cell_type": "code",
   "execution_count": 63,
   "id": "95cb20b7",
   "metadata": {},
   "outputs": [
    {
     "data": {
      "text/plain": [
       "count    92.000000\n",
       "mean     24.004095\n",
       "std       3.447270\n",
       "min      17.481790\n",
       "25%      21.727946\n",
       "50%      23.372162\n",
       "75%      26.358821\n",
       "max      33.950617\n",
       "Name: IMT, dtype: float64"
      ]
     },
     "execution_count": 63,
     "metadata": {},
     "output_type": "execute_result"
    }
   ],
   "source": [
    "df['IMT'].describe()"
   ]
  },
  {
   "cell_type": "markdown",
   "id": "edf639c3",
   "metadata": {},
   "source": [
    "20107 аномальное значение, т.к даже при весе в 255кг и росте в 60 см, ИМТ = 708.3"
   ]
  },
  {
   "cell_type": "code",
   "execution_count": 64,
   "id": "cb445506",
   "metadata": {},
   "outputs": [],
   "source": [
    "df = df[df['IMT'] < 500]"
   ]
  },
  {
   "cell_type": "code",
   "execution_count": 65,
   "id": "0d852dd8",
   "metadata": {},
   "outputs": [
    {
     "data": {
      "image/png": "[encoded data removed]",
      "text/plain": [
       "<Figure size 640x480 with 1 Axes>"
      ]
     },
     "metadata": {},
     "output_type": "display_data"
    }
   ],
   "source": [
    "plt.scatter(df['IMT'], df['comfort_rating'])\n",
    "plt.xlabel('IMT')\n",
    "plt.ylabel('Comfort Rating')\n",
    "plt.show()"
   ]
  },
  {
   "cell_type": "code",
   "execution_count": 66,
   "id": "7c704ed3",
   "metadata": {},
   "outputs": [
    {
     "data": {
      "image/png": "[encoded data removed]",
      "text/plain": [
       "<Figure size 640x480 with 1 Axes>"
      ]
     },
     "metadata": {},
     "output_type": "display_data"
    }
   ],
   "source": [
    "plt.scatter(df['height'], df['comfort_rating'])\n",
    "plt.xlabel('Height')\n",
    "plt.ylabel('Comfort Rating')\n",
    "plt.show()"
   ]
  },
  {
   "cell_type": "code",
   "execution_count": 67,
   "id": "62803387",
   "metadata": {},
   "outputs": [
    {
     "data": {
      "image/png": "[encoded data removed]",
      "text/plain": [
       "<Figure size 640x480 with 1 Axes>"
      ]
     },
     "metadata": {},
     "output_type": "display_data"
    }
   ],
   "source": [
    "plt.scatter(df['weight'], df['comfort_rating'])\n",
    "plt.xlabel('Weight')\n",
    "plt.ylabel('Comfort Rating')\n",
    "plt.show()"
   ]
  },
  {
   "cell_type": "markdown",
   "id": "884b758a",
   "metadata": {},
   "source": [
    "Как можно заметить, в каждой оценке присутствуют почти все категории веса, роста и ИМТ"
   ]
  },
  {
   "cell_type": "markdown",
   "id": "f7fe3206",
   "metadata": {},
   "source": [
    "Попробуем построить лин рег с ростом и весом, а так же без"
   ]
  },
  {
   "cell_type": "code",
   "execution_count": 68,
   "id": "253a6bea",
   "metadata": {},
   "outputs": [
    {
     "data": {
      "text/plain": [
       "year                                    0\n",
       "season                                  0\n",
       "climate                                 0\n",
       "city                                    0\n",
       "country                                 0\n",
       "cooling_method                          0\n",
       "mixed_cooling_mode                      0\n",
       "heating_method                          0\n",
       "age                                     0\n",
       "gender                                  0\n",
       "temperature_feeling                     0\n",
       "temperature_feeling_bool                0\n",
       "preferred_temperature_change            0\n",
       "air_movement_feeling_bool               0\n",
       "preferred_air_movement_change           0\n",
       "comfort_rating                          0\n",
       "clothing_insulation                     0\n",
       "indoor_air_temperature                  0\n",
       "outdoor_air_temperature                92\n",
       "relative_humidity                       0\n",
       "air_speed                               0\n",
       "height                                  0\n",
       "weight                                  0\n",
       "curtains                                0\n",
       "fan_mode                                0\n",
       "window_status                           0\n",
       "door_status                             0\n",
       "heating_mode                            0\n",
       "average_monthly_outdoor_temperature     0\n",
       "number_of_complaints                    0\n",
       "IMT                                     0\n",
       "dtype: int64"
      ]
     },
     "execution_count": 68,
     "metadata": {},
     "output_type": "execute_result"
    }
   ],
   "source": [
    "df.isna().sum()"
   ]
  },
  {
   "cell_type": "code",
   "execution_count": 69,
   "id": "205789ec",
   "metadata": {},
   "outputs": [
    {
     "data": {
      "text/html": [
       "<div>\n",
       "<style scoped>\n",
       "    .dataframe tbody tr th:only-of-type {\n",
       "        vertical-align: middle;\n",
       "    }\n",
       "\n",
       "    .dataframe tbody tr th {\n",
       "        vertical-align: top;\n",
       "    }\n",
       "\n",
       "    .dataframe thead th {\n",
       "        text-align: right;\n",
       "    }\n",
       "</style>\n",
       "<table border=\"1\" class=\"dataframe\">\n",
       "  <thead>\n",
       "    <tr style=\"text-align: right;\">\n",
       "      <th></th>\n",
       "      <th>year</th>\n",
       "      <th>season</th>\n",
       "      <th>climate</th>\n",
       "      <th>city</th>\n",
       "      <th>country</th>\n",
       "      <th>cooling_method</th>\n",
       "      <th>mixed_cooling_mode</th>\n",
       "      <th>heating_method</th>\n",
       "      <th>age</th>\n",
       "      <th>gender</th>\n",
       "      <th>...</th>\n",
       "      <th>height</th>\n",
       "      <th>weight</th>\n",
       "      <th>curtains</th>\n",
       "      <th>fan_mode</th>\n",
       "      <th>window_status</th>\n",
       "      <th>door_status</th>\n",
       "      <th>heating_mode</th>\n",
       "      <th>average_monthly_outdoor_temperature</th>\n",
       "      <th>number_of_complaints</th>\n",
       "      <th>IMT</th>\n",
       "    </tr>\n",
       "  </thead>\n",
       "  <tbody>\n",
       "    <tr>\n",
       "      <th>231</th>\n",
       "      <td>2012</td>\n",
       "      <td>Лето</td>\n",
       "      <td>Субтропическое высокогорье</td>\n",
       "      <td>Шимла</td>\n",
       "      <td>Индия</td>\n",
       "      <td>Вентиляция</td>\n",
       "      <td>not applicable</td>\n",
       "      <td>No mechanical heating</td>\n",
       "      <td>45</td>\n",
       "      <td>Мужской</td>\n",
       "      <td>...</td>\n",
       "      <td>168.0</td>\n",
       "      <td>65.0</td>\n",
       "      <td>True</td>\n",
       "      <td>True</td>\n",
       "      <td>False</td>\n",
       "      <td>True</td>\n",
       "      <td>True</td>\n",
       "      <td>18.5</td>\n",
       "      <td>0</td>\n",
       "      <td>23.030045</td>\n",
       "    </tr>\n",
       "    <tr>\n",
       "      <th>232</th>\n",
       "      <td>2012</td>\n",
       "      <td>Зима</td>\n",
       "      <td>Тропическая влажная саванна</td>\n",
       "      <td>Бангалор</td>\n",
       "      <td>Индия</td>\n",
       "      <td>Вентиляция</td>\n",
       "      <td>not applicable</td>\n",
       "      <td>No mechanical heating</td>\n",
       "      <td>35</td>\n",
       "      <td>Женский</td>\n",
       "      <td>...</td>\n",
       "      <td>163.0</td>\n",
       "      <td>53.0</td>\n",
       "      <td>True</td>\n",
       "      <td>False</td>\n",
       "      <td>True</td>\n",
       "      <td>True</td>\n",
       "      <td>True</td>\n",
       "      <td>29.9</td>\n",
       "      <td>0</td>\n",
       "      <td>19.948060</td>\n",
       "    </tr>\n",
       "    <tr>\n",
       "      <th>233</th>\n",
       "      <td>2012</td>\n",
       "      <td>Лето</td>\n",
       "      <td>Жаркий полузасушливый</td>\n",
       "      <td>Ахмедабад</td>\n",
       "      <td>Индия</td>\n",
       "      <td>Смешанный</td>\n",
       "      <td>Кондиционирование</td>\n",
       "      <td>No mechanical heating</td>\n",
       "      <td>35</td>\n",
       "      <td>Мужской</td>\n",
       "      <td>...</td>\n",
       "      <td>168.0</td>\n",
       "      <td>75.0</td>\n",
       "      <td>True</td>\n",
       "      <td>True</td>\n",
       "      <td>False</td>\n",
       "      <td>True</td>\n",
       "      <td>True</td>\n",
       "      <td>29.5</td>\n",
       "      <td>1</td>\n",
       "      <td>26.573129</td>\n",
       "    </tr>\n",
       "    <tr>\n",
       "      <th>235</th>\n",
       "      <td>2012</td>\n",
       "      <td>Лето</td>\n",
       "      <td>Субтропическое высокогорье</td>\n",
       "      <td>Шимла</td>\n",
       "      <td>Индия</td>\n",
       "      <td>Смешанный</td>\n",
       "      <td>Вентиляция</td>\n",
       "      <td>Механическое отопление</td>\n",
       "      <td>45</td>\n",
       "      <td>Женский</td>\n",
       "      <td>...</td>\n",
       "      <td>173.0</td>\n",
       "      <td>70.0</td>\n",
       "      <td>True</td>\n",
       "      <td>True</td>\n",
       "      <td>False</td>\n",
       "      <td>True</td>\n",
       "      <td>True</td>\n",
       "      <td>18.5</td>\n",
       "      <td>0</td>\n",
       "      <td>23.388687</td>\n",
       "    </tr>\n",
       "    <tr>\n",
       "      <th>236</th>\n",
       "      <td>2012</td>\n",
       "      <td>Лето</td>\n",
       "      <td>Субтропическое высокогорье</td>\n",
       "      <td>Шимла</td>\n",
       "      <td>Индия</td>\n",
       "      <td>Смешанный</td>\n",
       "      <td>Вентиляция</td>\n",
       "      <td>Механическое отопление</td>\n",
       "      <td>45</td>\n",
       "      <td>Мужской</td>\n",
       "      <td>...</td>\n",
       "      <td>163.0</td>\n",
       "      <td>57.0</td>\n",
       "      <td>True</td>\n",
       "      <td>True</td>\n",
       "      <td>False</td>\n",
       "      <td>True</td>\n",
       "      <td>True</td>\n",
       "      <td>18.5</td>\n",
       "      <td>0</td>\n",
       "      <td>21.453574</td>\n",
       "    </tr>\n",
       "  </tbody>\n",
       "</table>\n",
       "<p>5 rows × 30 columns</p>\n",
       "</div>"
      ],
      "text/plain": [
       "     year season                      climate       city country  \\\n",
       "231  2012   Лето   Субтропическое высокогорье      Шимла   Индия   \n",
       "232  2012   Зима  Тропическая влажная саванна   Бангалор   Индия   \n",
       "233  2012   Лето        Жаркий полузасушливый  Ахмедабад   Индия   \n",
       "235  2012   Лето   Субтропическое высокогорье      Шимла   Индия   \n",
       "236  2012   Лето   Субтропическое высокогорье      Шимла   Индия   \n",
       "\n",
       "    cooling_method mixed_cooling_mode          heating_method  age   gender  \\\n",
       "231     Вентиляция     not applicable   No mechanical heating   45  Мужской   \n",
       "232     Вентиляция     not applicable   No mechanical heating   35  Женский   \n",
       "233      Смешанный  Кондиционирование   No mechanical heating   35  Мужской   \n",
       "235      Смешанный         Вентиляция  Механическое отопление   45  Женский   \n",
       "236      Смешанный         Вентиляция  Механическое отопление   45  Мужской   \n",
       "\n",
       "     ...  height  weight curtains  fan_mode window_status  door_status  \\\n",
       "231  ...   168.0    65.0     True      True         False         True   \n",
       "232  ...   163.0    53.0     True     False          True         True   \n",
       "233  ...   168.0    75.0     True      True         False         True   \n",
       "235  ...   173.0    70.0     True      True         False         True   \n",
       "236  ...   163.0    57.0     True      True         False         True   \n",
       "\n",
       "     heating_mode  average_monthly_outdoor_temperature  number_of_complaints  \\\n",
       "231          True                                 18.5                     0   \n",
       "232          True                                 29.9                     0   \n",
       "233          True                                 29.5                     1   \n",
       "235          True                                 18.5                     0   \n",
       "236          True                                 18.5                     0   \n",
       "\n",
       "           IMT  \n",
       "231  23.030045  \n",
       "232  19.948060  \n",
       "233  26.573129  \n",
       "235  23.388687  \n",
       "236  21.453574  \n",
       "\n",
       "[5 rows x 30 columns]"
      ]
     },
     "execution_count": 69,
     "metadata": {},
     "output_type": "execute_result"
    }
   ],
   "source": [
    "df = df.drop('outdoor_air_temperature', axis=1)\n",
    "df.head()"
   ]
  },
  {
   "cell_type": "code",
   "execution_count": 70,
   "id": "c5ef3ca0",
   "metadata": {},
   "outputs": [
    {
     "data": {
      "text/plain": [
       "(92, 30)"
      ]
     },
     "execution_count": 70,
     "metadata": {},
     "output_type": "execute_result"
    }
   ],
   "source": [
    "df.shape"
   ]
  },
  {
   "cell_type": "code",
   "execution_count": null,
   "id": "af59cdcb",
   "metadata": {},
   "outputs": [],
   "source": [
    "df"
   ]
  }
 ],
 "metadata": {
  "kernelspec": {
   "display_name": "DA_ENV",
   "language": "python",
   "name": "python3"
  },
  "language_info": {
   "codemirror_mode": {
    "name": "ipython",
    "version": 3
   },
   "file_extension": ".py",
   "mimetype": "text/x-python",
   "name": "python",
   "nbconvert_exporter": "python",
   "pygments_lexer": "ipython3",
   "version": "3.10.16"
  }
 },
 "nbformat": 4,
 "nbformat_minor": 5
}
