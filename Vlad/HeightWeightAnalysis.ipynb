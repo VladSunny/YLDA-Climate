{
 "cells": [
  {
   "cell_type": "markdown",
   "id": "8d823b60",
   "metadata": {},
   "source": [
    "Обоснование удаления колонок по весу и росту"
   ]
  },
  {
   "cell_type": "code",
   "execution_count": 37,
   "id": "cb54665c",
   "metadata": {},
   "outputs": [],
   "source": [
    "import pandas as pd\n",
    "from dython.nominal import associations\n",
    "import matplotlib.pyplot as plt\n",
    "import seaborn as sns"
   ]
  },
  {
   "cell_type": "code",
   "execution_count": 38,
   "id": "3a48943b",
   "metadata": {},
   "outputs": [
    {
     "data": {
      "text/html": [
       "<div>\n",
       "<style scoped>\n",
       "    .dataframe tbody tr th:only-of-type {\n",
       "        vertical-align: middle;\n",
       "    }\n",
       "\n",
       "    .dataframe tbody tr th {\n",
       "        vertical-align: top;\n",
       "    }\n",
       "\n",
       "    .dataframe thead th {\n",
       "        text-align: right;\n",
       "    }\n",
       "</style>\n",
       "<table border=\"1\" class=\"dataframe\">\n",
       "  <thead>\n",
       "    <tr style=\"text-align: right;\">\n",
       "      <th></th>\n",
       "      <th>year</th>\n",
       "      <th>season</th>\n",
       "      <th>climate</th>\n",
       "      <th>city</th>\n",
       "      <th>country</th>\n",
       "      <th>cooling_method</th>\n",
       "      <th>mixed_cooling_mode</th>\n",
       "      <th>heating_method</th>\n",
       "      <th>age</th>\n",
       "      <th>gender</th>\n",
       "      <th>...</th>\n",
       "      <th>air_speed</th>\n",
       "      <th>height</th>\n",
       "      <th>weight</th>\n",
       "      <th>curtains</th>\n",
       "      <th>fan_mode</th>\n",
       "      <th>window_status</th>\n",
       "      <th>door_status</th>\n",
       "      <th>heating_mode</th>\n",
       "      <th>average_monthly_outdoor_temperature</th>\n",
       "      <th>number_of_complaints</th>\n",
       "    </tr>\n",
       "  </thead>\n",
       "  <tbody>\n",
       "    <tr>\n",
       "      <th>0</th>\n",
       "      <td>2011.0</td>\n",
       "      <td>Лето</td>\n",
       "      <td>Cубтропический океанический</td>\n",
       "      <td>Техас</td>\n",
       "      <td>США</td>\n",
       "      <td>Кондиционирование</td>\n",
       "      <td>NaN</td>\n",
       "      <td>NaN</td>\n",
       "      <td>22.0</td>\n",
       "      <td>NaN</td>\n",
       "      <td>...</td>\n",
       "      <td>0.26</td>\n",
       "      <td>NaN</td>\n",
       "      <td>NaN</td>\n",
       "      <td>1.0</td>\n",
       "      <td>1.0</td>\n",
       "      <td>NaN</td>\n",
       "      <td>NaN</td>\n",
       "      <td>NaN</td>\n",
       "      <td>28.9</td>\n",
       "      <td>0</td>\n",
       "    </tr>\n",
       "    <tr>\n",
       "      <th>1</th>\n",
       "      <td>2011.0</td>\n",
       "      <td>Лето</td>\n",
       "      <td>Cубтропический океанический</td>\n",
       "      <td>Техас</td>\n",
       "      <td>США</td>\n",
       "      <td>Кондиционирование</td>\n",
       "      <td>NaN</td>\n",
       "      <td>NaN</td>\n",
       "      <td>40.0</td>\n",
       "      <td>NaN</td>\n",
       "      <td>...</td>\n",
       "      <td>0.12</td>\n",
       "      <td>NaN</td>\n",
       "      <td>NaN</td>\n",
       "      <td>0.0</td>\n",
       "      <td>0.0</td>\n",
       "      <td>NaN</td>\n",
       "      <td>NaN</td>\n",
       "      <td>NaN</td>\n",
       "      <td>84.0</td>\n",
       "      <td>0</td>\n",
       "    </tr>\n",
       "    <tr>\n",
       "      <th>2</th>\n",
       "      <td>2011.0</td>\n",
       "      <td>Лето</td>\n",
       "      <td>Cубтропический океанический</td>\n",
       "      <td>Техас</td>\n",
       "      <td>США</td>\n",
       "      <td>Кондиционирование</td>\n",
       "      <td>NaN</td>\n",
       "      <td>NaN</td>\n",
       "      <td>42.0</td>\n",
       "      <td>NaN</td>\n",
       "      <td>...</td>\n",
       "      <td>0.08</td>\n",
       "      <td>NaN</td>\n",
       "      <td>NaN</td>\n",
       "      <td>0.0</td>\n",
       "      <td>0.0</td>\n",
       "      <td>NaN</td>\n",
       "      <td>NaN</td>\n",
       "      <td>NaN</td>\n",
       "      <td>32.8</td>\n",
       "      <td>0</td>\n",
       "    </tr>\n",
       "    <tr>\n",
       "      <th>3</th>\n",
       "      <td>2011.0</td>\n",
       "      <td>Лето</td>\n",
       "      <td>Cубтропический океанический</td>\n",
       "      <td>Техас</td>\n",
       "      <td>США</td>\n",
       "      <td>Кондиционирование</td>\n",
       "      <td>NaN</td>\n",
       "      <td>NaN</td>\n",
       "      <td>27.0</td>\n",
       "      <td>NaN</td>\n",
       "      <td>...</td>\n",
       "      <td>27.16</td>\n",
       "      <td>NaN</td>\n",
       "      <td>NaN</td>\n",
       "      <td>1.0</td>\n",
       "      <td>1.0</td>\n",
       "      <td>NaN</td>\n",
       "      <td>NaN</td>\n",
       "      <td>NaN</td>\n",
       "      <td>28.9</td>\n",
       "      <td>1</td>\n",
       "    </tr>\n",
       "    <tr>\n",
       "      <th>4</th>\n",
       "      <td>2011.0</td>\n",
       "      <td>Лето</td>\n",
       "      <td>Cубтропический океанический</td>\n",
       "      <td>Техас</td>\n",
       "      <td>США</td>\n",
       "      <td>Кондиционирование</td>\n",
       "      <td>NaN</td>\n",
       "      <td>NaN</td>\n",
       "      <td>46.0</td>\n",
       "      <td>NaN</td>\n",
       "      <td>...</td>\n",
       "      <td>63.83</td>\n",
       "      <td>NaN</td>\n",
       "      <td>NaN</td>\n",
       "      <td>1.0</td>\n",
       "      <td>1.0</td>\n",
       "      <td>NaN</td>\n",
       "      <td>NaN</td>\n",
       "      <td>NaN</td>\n",
       "      <td>32.8</td>\n",
       "      <td>0</td>\n",
       "    </tr>\n",
       "  </tbody>\n",
       "</table>\n",
       "<p>5 rows × 30 columns</p>\n",
       "</div>"
      ],
      "text/plain": [
       "     year season                      climate   city country  \\\n",
       "0  2011.0   Лето  Cубтропический океанический  Техас     США   \n",
       "1  2011.0   Лето  Cубтропический океанический  Техас     США   \n",
       "2  2011.0   Лето  Cубтропический океанический  Техас     США   \n",
       "3  2011.0   Лето  Cубтропический океанический  Техас     США   \n",
       "4  2011.0   Лето  Cубтропический океанический  Техас     США   \n",
       "\n",
       "      cooling_method mixed_cooling_mode heating_method   age gender  ...  \\\n",
       "0  Кондиционирование                NaN            NaN  22.0    NaN  ...   \n",
       "1  Кондиционирование                NaN            NaN  40.0    NaN  ...   \n",
       "2  Кондиционирование                NaN            NaN  42.0    NaN  ...   \n",
       "3  Кондиционирование                NaN            NaN  27.0    NaN  ...   \n",
       "4  Кондиционирование                NaN            NaN  46.0    NaN  ...   \n",
       "\n",
       "   air_speed  height weight  curtains fan_mode  window_status  door_status  \\\n",
       "0       0.26     NaN    NaN       1.0      1.0            NaN          NaN   \n",
       "1       0.12     NaN    NaN       0.0      0.0            NaN          NaN   \n",
       "2       0.08     NaN    NaN       0.0      0.0            NaN          NaN   \n",
       "3      27.16     NaN    NaN       1.0      1.0            NaN          NaN   \n",
       "4      63.83     NaN    NaN       1.0      1.0            NaN          NaN   \n",
       "\n",
       "   heating_mode  average_monthly_outdoor_temperature  number_of_complaints  \n",
       "0           NaN                                 28.9                     0  \n",
       "1           NaN                                 84.0                     0  \n",
       "2           NaN                                 32.8                     0  \n",
       "3           NaN                                 28.9                     1  \n",
       "4           NaN                                 32.8                     0  \n",
       "\n",
       "[5 rows x 30 columns]"
      ]
     },
     "execution_count": 38,
     "metadata": {},
     "output_type": "execute_result"
    }
   ],
   "source": [
    "df = pd.read_csv(\"data/norm_data.csv\")\n",
    "\n",
    "df.head()"
   ]
  },
  {
   "cell_type": "code",
   "execution_count": 39,
   "id": "0c4a7cf9",
   "metadata": {},
   "outputs": [
    {
     "data": {
      "text/plain": [
       "((143, 2), (143, 2), (143, 3))"
      ]
     },
     "execution_count": 39,
     "metadata": {},
     "output_type": "execute_result"
    }
   ],
   "source": [
    "df_h = df[['height', 'comfort_rating']].dropna()\n",
    "df_w = df[['weight', 'comfort_rating']].dropna()\n",
    "df_hw = df[['height', 'weight', 'comfort_rating']].dropna()\n",
    "\n",
    "df_h.shape, df_w.shape, df_hw.shape"
   ]
  },
  {
   "cell_type": "code",
   "execution_count": 40,
   "id": "f8530d9a",
   "metadata": {},
   "outputs": [
    {
     "data": {
      "text/plain": [
       "0"
      ]
     },
     "execution_count": 40,
     "metadata": {},
     "output_type": "execute_result"
    }
   ],
   "source": [
    "sum(df_h['height'] != df_hw['height'])"
   ]
  },
  {
   "cell_type": "code",
   "execution_count": 41,
   "id": "8b796e09",
   "metadata": {},
   "outputs": [
    {
     "data": {
      "text/plain": [
       "0"
      ]
     },
     "execution_count": 41,
     "metadata": {},
     "output_type": "execute_result"
    }
   ],
   "source": [
    "sum(df_w['weight'] != df_hw['weight'])"
   ]
  },
  {
   "cell_type": "markdown",
   "id": "5a70d659",
   "metadata": {},
   "source": [
    "=> пропуски в росте и весе встречаются одновременно"
   ]
  },
  {
   "cell_type": "markdown",
   "id": "2f460719",
   "metadata": {},
   "source": [
    "Помимо зависимости комфрота от роста и веса в отдельности, стоит проверить зависимость комфорта от [ИМТ (вес / рост^2)](https://gkb81.ru/sovety/kalkulyator-imt/)"
   ]
  },
  {
   "cell_type": "code",
   "execution_count": 42,
   "id": "ba360bd0",
   "metadata": {},
   "outputs": [],
   "source": [
    "df = df.dropna(subset=['height', 'weight', 'comfort_rating'])"
   ]
  },
  {
   "cell_type": "code",
   "execution_count": 43,
   "id": "196dd26c",
   "metadata": {},
   "outputs": [
    {
     "data": {
      "text/plain": [
       "(143, 30)"
      ]
     },
     "execution_count": 43,
     "metadata": {},
     "output_type": "execute_result"
    }
   ],
   "source": [
    "df.shape"
   ]
  },
  {
   "cell_type": "code",
   "execution_count": 47,
   "id": "739127d7",
   "metadata": {},
   "outputs": [
    {
     "data": {
      "text/html": [
       "<div>\n",
       "<style scoped>\n",
       "    .dataframe tbody tr th:only-of-type {\n",
       "        vertical-align: middle;\n",
       "    }\n",
       "\n",
       "    .dataframe tbody tr th {\n",
       "        vertical-align: top;\n",
       "    }\n",
       "\n",
       "    .dataframe thead th {\n",
       "        text-align: right;\n",
       "    }\n",
       "</style>\n",
       "<table border=\"1\" class=\"dataframe\">\n",
       "  <thead>\n",
       "    <tr style=\"text-align: right;\">\n",
       "      <th></th>\n",
       "      <th>height</th>\n",
       "      <th>weight</th>\n",
       "      <th>IMT</th>\n",
       "    </tr>\n",
       "  </thead>\n",
       "  <tbody>\n",
       "    <tr>\n",
       "      <th>270</th>\n",
       "      <td>167.6</td>\n",
       "      <td>65.0</td>\n",
       "      <td>23.140105</td>\n",
       "    </tr>\n",
       "    <tr>\n",
       "      <th>272</th>\n",
       "      <td>162.6</td>\n",
       "      <td>53.0</td>\n",
       "      <td>20.046326</td>\n",
       "    </tr>\n",
       "    <tr>\n",
       "      <th>273</th>\n",
       "      <td>167.6</td>\n",
       "      <td>75.0</td>\n",
       "      <td>26.700121</td>\n",
       "    </tr>\n",
       "    <tr>\n",
       "      <th>275</th>\n",
       "      <td>160.0</td>\n",
       "      <td>70.0</td>\n",
       "      <td>27.343750</td>\n",
       "    </tr>\n",
       "    <tr>\n",
       "      <th>277</th>\n",
       "      <td>152.4</td>\n",
       "      <td>57.0</td>\n",
       "      <td>24.541716</td>\n",
       "    </tr>\n",
       "  </tbody>\n",
       "</table>\n",
       "</div>"
      ],
      "text/plain": [
       "     height  weight        IMT\n",
       "270   167.6    65.0  23.140105\n",
       "272   162.6    53.0  20.046326\n",
       "273   167.6    75.0  26.700121\n",
       "275   160.0    70.0  27.343750\n",
       "277   152.4    57.0  24.541716"
      ]
     },
     "execution_count": 47,
     "metadata": {},
     "output_type": "execute_result"
    }
   ],
   "source": [
    "df['IMT'] = df['weight'] / df['height'] ** 2 * 1e4\n",
    "\n",
    "df[['height', 'weight', 'IMT']].head()"
   ]
  },
  {
   "cell_type": "code",
   "execution_count": 49,
   "id": "95cb20b7",
   "metadata": {},
   "outputs": [
    {
     "data": {
      "text/plain": [
       "count      143.000000\n",
       "mean       276.662493\n",
       "std       2143.142524\n",
       "min         16.764296\n",
       "25%         21.653681\n",
       "50%         23.734404\n",
       "75%         26.203074\n",
       "max      20107.557151\n",
       "Name: IMT, dtype: float64"
      ]
     },
     "execution_count": 49,
     "metadata": {},
     "output_type": "execute_result"
    }
   ],
   "source": [
    "df['IMT'].describe()"
   ]
  },
  {
   "cell_type": "markdown",
   "id": "edf639c3",
   "metadata": {},
   "source": [
    "20107 аномальное значение, т.к даже при весе в 255кг и росте в 60 см, ИМТ = 708.3"
   ]
  },
  {
   "cell_type": "code",
   "execution_count": 50,
   "id": "cb445506",
   "metadata": {},
   "outputs": [],
   "source": [
    "df = df[df['IMT'] < 500]"
   ]
  },
  {
   "cell_type": "code",
   "execution_count": 52,
   "id": "0d852dd8",
   "metadata": {},
   "outputs": [
    {
     "data": {
      "image/png": "[encoded data removed]",
      "text/plain": [
       "<Figure size 640x480 with 1 Axes>"
      ]
     },
     "metadata": {},
     "output_type": "display_data"
    }
   ],
   "source": [
    "plt.scatter(df['IMT'], df['comfort_rating'])\n",
    "plt.show()"
   ]
  },
  {
   "cell_type": "code",
   "execution_count": 53,
   "id": "7c704ed3",
   "metadata": {},
   "outputs": [
    {
     "data": {
      "image/png": "[encoded data removed]",
      "text/plain": [
       "<Figure size 640x480 with 1 Axes>"
      ]
     },
     "metadata": {},
     "output_type": "display_data"
    }
   ],
   "source": [
    "plt.scatter(df['height'], df['comfort_rating'])\n",
    "\n",
    "plt.show()"
   ]
  },
  {
   "cell_type": "code",
   "execution_count": 54,
   "id": "62803387",
   "metadata": {},
   "outputs": [
    {
     "data": {
      "image/png": "[encoded data removed]",
      "text/plain": [
       "<Figure size 640x480 with 1 Axes>"
      ]
     },
     "metadata": {},
     "output_type": "display_data"
    }
   ],
   "source": [
    "plt.scatter(df['weight'], df['comfort_rating'])\n",
    "\n",
    "plt.show()"
   ]
  },
  {
   "cell_type": "markdown",
   "id": "884b758a",
   "metadata": {},
   "source": [
    "Как можно заметить, в каждой оценке присутствуют почти все категории веса, роста и ИМТ"
   ]
  },
  {
   "cell_type": "code",
   "execution_count": null,
   "id": "73a9e667",
   "metadata": {},
   "outputs": [],
   "source": []
  }
 ],
 "metadata": {
  "kernelspec": {
   "display_name": "DA_ENV",
   "language": "python",
   "name": "python3"
  },
  "language_info": {
   "codemirror_mode": {
    "name": "ipython",
    "version": 3
   },
   "file_extension": ".py",
   "mimetype": "text/x-python",
   "name": "python",
   "nbconvert_exporter": "python",
   "pygments_lexer": "ipython3",
   "version": "3.10.15"
  }
 },
 "nbformat": 4,
 "nbformat_minor": 5
}
